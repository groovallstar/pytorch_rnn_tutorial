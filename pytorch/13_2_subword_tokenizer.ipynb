{
 "cells": [
  {
   "cell_type": "code",
   "execution_count": 1,
   "metadata": {},
   "outputs": [],
   "source": [
    "import re, collections"
   ]
  },
  {
   "cell_type": "code",
   "execution_count": 12,
   "metadata": {},
   "outputs": [
    {
     "name": "stdout",
     "output_type": "stream",
     "text": [
      "### Iteration 10\n",
      "new merge: ('w', 'i')\n",
      "dictionary: {'low</w>': 5, 'low e r </w>': 2, 'newest</w>': 6, 'wi d est</w>': 3}\n"
     ]
    }
   ],
   "source": [
    "dictionary = {'l o w </w>' : 5, 'l o w e r </w>' : 2, 'n e w e s t </w>':6,\n",
    "              'w i d e s t </w>':3}\n",
    "\n",
    "# 가장 빈도수가 높은 유니그램의 쌍을 하나의 유니그램으로 통합하는 과정\n",
    "def get_stats(dictionary):\n",
    "    pairs = collections.defaultdict(int)\n",
    "    for word, freq in dictionary.items():\n",
    "        symbols = word.split()\n",
    "        for i in range(len(symbols)-1):\n",
    "            pairs[symbols[i], symbols[i+1]] += freq\n",
    "    #print('current pair frequency:', dict(pairs))\n",
    "    return pairs\n",
    "\n",
    "def merge_dictionary(pair, v_in):\n",
    "    v_out = {}\n",
    "    bigram = re.escape(' '.join(pair))\n",
    "    p = re.compile(r'(?<!\\S)' + bigram + r'(?!\\S)')\n",
    "    for word in v_in:\n",
    "        w_out = p.sub(''.join(pair), word)\n",
    "        v_out[w_out] = v_in[word]\n",
    "    return v_out\n",
    "\n",
    "bpe_codes = {}\n",
    "bpe_codes_reverse = {}\n",
    "\n",
    "num_merges = 10 # bpe 수행 횟수\n",
    "for i in range(num_merges):\n",
    "    \n",
    "    pairs = get_stats(dictionary)\n",
    "    best = max(pairs, key=pairs.get)\n",
    "    dictionary = merge_dictionary(best, dictionary)\n",
    "\n",
    "    bpe_codes[best] = i\n",
    "    bpe_codes_reverse[best[0] + best[1]] = best\n",
    "    if i == num_merges-1:\n",
    "        print(\"### Iteration {}\".format(i + 1))\n",
    "        print(\"new merge: {}\".format(best))\n",
    "        print(\"dictionary: {}\".format(dictionary))"
   ]
  },
  {
   "cell_type": "code",
   "execution_count": 13,
   "metadata": {},
   "outputs": [
    {
     "name": "stdout",
     "output_type": "stream",
     "text": [
      "{('e', 's'): 0, ('es', 't'): 1, ('est', '</w>'): 2, ('l', 'o'): 3, ('lo', 'w'): 4, ('n', 'e'): 5, ('ne', 'w'): 6, ('new', 'est</w>'): 7, ('low', '</w>'): 8, ('w', 'i'): 9}\n"
     ]
    }
   ],
   "source": [
    "print(bpe_codes)"
   ]
  },
  {
   "cell_type": "code",
   "execution_count": 16,
   "metadata": {},
   "outputs": [],
   "source": [
    "# oov 대처하기\n",
    "def get_pairs(word):\n",
    "    pairs = set()\n",
    "    prev_char = word[0]\n",
    "    for char in word[1:]:\n",
    "        pairs.add((prev_char, char))\n",
    "        prev_char = char\n",
    "    return pairs\n",
    "\n",
    "def encode(orig):\n",
    "    word = tuple(orig) + ('</w>', )\n",
    "    print(f'word split into characters:{word}')\n",
    "    pairs = get_pairs(word)\n",
    "    if not pairs:\n",
    "        return orig\n",
    "    \n",
    "    iteration = 0\n",
    "    while True:\n",
    "        iteration += 1\n",
    "        print(f'Iteration {iteration}: ')\n",
    "        print(f'bigrams in the word: {pairs}')\n",
    "        bigram = min(pairs, key = lambda pair: bpe_codes.get(pair, float('inf')))\n",
    "        print(f'candidate for merging: {bigram}')\n",
    "        if bigram not in bpe_codes:\n",
    "            print('Candidate not in BPE merges, algorithm stops.')\n",
    "            break\n",
    "        first, second = bigram\n",
    "        new_word = []\n",
    "        i = 0\n",
    "        while i < len(word):\n",
    "            try:\n",
    "                j = word.index(first, i)\n",
    "                new_word.extend(word[i:j])\n",
    "                i = j\n",
    "            except:\n",
    "                new_word.extend(word[i:])\n",
    "                break\n",
    "            \n",
    "            if word[i] == first and i < len(word)-1 and word[i+1] == second:\n",
    "                new_word.append(first+second)\n",
    "                i += 2\n",
    "            else:\n",
    "                new_word.append(word[i])\n",
    "                i += 1\n",
    "        \n",
    "        new_word = tuple(new_word)\n",
    "        word = new_word\n",
    "        print(f'word after merging : {word}')\n",
    "        if len(word) == 1:\n",
    "            break\n",
    "        else:\n",
    "            pairs = get_pairs(word)\n",
    "    \n",
    "    if word[-1] == '</w>':\n",
    "        word = word[:-1]\n",
    "    elif word[-1].endswith('</w>'):\n",
    "        word = word[:-1] + (word[-1].replace('</w>', ''), )\n",
    "    \n",
    "    return word"
   ]
  },
  {
   "cell_type": "code",
   "execution_count": 21,
   "metadata": {},
   "outputs": [
    {
     "name": "stdout",
     "output_type": "stream",
     "text": [
      "word split into characters:('l', 'o', 'w', 'i', 'n', 'g', '</w>')\n",
      "Iteration 1: \n",
      "bigrams in the word: {('l', 'o'), ('g', '</w>'), ('o', 'w'), ('w', 'i'), ('i', 'n'), ('n', 'g')}\n",
      "candidate for merging: ('l', 'o')\n",
      "word after merging : ('lo', 'w', 'i', 'n', 'g', '</w>')\n",
      "Iteration 2: \n",
      "bigrams in the word: {('g', '</w>'), ('w', 'i'), ('lo', 'w'), ('i', 'n'), ('n', 'g')}\n",
      "candidate for merging: ('lo', 'w')\n",
      "word after merging : ('low', 'i', 'n', 'g', '</w>')\n",
      "Iteration 3: \n",
      "bigrams in the word: {('g', '</w>'), ('n', 'g'), ('low', 'i'), ('i', 'n')}\n",
      "candidate for merging: ('g', '</w>')\n",
      "Candidate not in BPE merges, algorithm stops.\n"
     ]
    },
    {
     "data": {
      "text/plain": [
       "('low', 'i', 'n', 'g')"
      ]
     },
     "execution_count": 21,
     "metadata": {},
     "output_type": "execute_result"
    }
   ],
   "source": [
    "encode('lowing')"
   ]
  },
  {
   "cell_type": "code",
   "execution_count": 22,
   "metadata": {},
   "outputs": [
    {
     "data": {
      "text/plain": [
       "0        My family and I normally do not watch local mo...\n",
       "1        Believe it or not, this was at one time the wo...\n",
       "2        After some internet surfing, I found the \"Home...\n",
       "3        One of the most unheralded great works of anim...\n",
       "4        It was the Sixties, and anyone with long hair ...\n",
       "                               ...                        \n",
       "49995    the people who came up with this are SICK AND ...\n",
       "49996    The script is so so laughable... this in turn,...\n",
       "49997    \"So there's this bride, you see, and she gets ...\n",
       "49998    Your mind will not be satisfied by this nobud...\n",
       "49999    The chaser's war on everything is a weekly sho...\n",
       "Name: review, Length: 50000, dtype: object"
      ]
     },
     "execution_count": 22,
     "metadata": {},
     "output_type": "execute_result"
    }
   ],
   "source": [
    "import sentencepiece as spm\n",
    "import pandas as pd\n",
    "import urllib.request\n",
    "import csv\n",
    "\n",
    "urllib.request.urlretrieve(\"https://raw.githubusercontent.com/LawrenceDuan/IMDb-Review-Analysis/master/IMDb_Reviews.csv\", filename=\"IMDb_Reviews.csv\")\n",
    "\n",
    "train_df = pd.read_csv('IMDb_Reviews.csv')\n",
    "train_df['review']"
   ]
  },
  {
   "cell_type": "code",
   "execution_count": 23,
   "metadata": {},
   "outputs": [],
   "source": [
    "with open('imdb_review.txt', 'w', encoding='utf8') as f:\n",
    "    f.write('\\n'.join(train_df['review']))"
   ]
  },
  {
   "cell_type": "code",
   "execution_count": 24,
   "metadata": {},
   "outputs": [
    {
     "name": "stderr",
     "output_type": "stream",
     "text": [
      "sentencepiece_trainer.cc(177) LOG(INFO) Running command: --input=imdb_review.txt --model_prefix=imdb --vocab_size=5000 --model_type=bpe --max_sentence_length=9999\n",
      "sentencepiece_trainer.cc(77) LOG(INFO) Starts training with : \n",
      "trainer_spec {\n",
      "  input: imdb_review.txt\n",
      "  input_format: \n",
      "  model_prefix: imdb\n",
      "  model_type: BPE\n",
      "  vocab_size: 5000\n",
      "  self_test_sample_size: 0\n",
      "  character_coverage: 0.9995\n",
      "  input_sentence_size: 0\n",
      "  shuffle_input_sentence: 1\n",
      "  seed_sentencepiece_size: 1000000\n",
      "  shrinking_factor: 0.75\n",
      "  max_sentence_length: 9999\n",
      "  num_threads: 16\n",
      "  num_sub_iterations: 2\n",
      "  max_sentencepiece_length: 16\n",
      "  split_by_unicode_script: 1\n",
      "  split_by_number: 1\n",
      "  split_by_whitespace: 1\n",
      "  split_digits: 0\n",
      "  pretokenization_delimiter: \n",
      "  treat_whitespace_as_suffix: 0\n",
      "  allow_whitespace_only_pieces: 0\n",
      "  required_chars: \n",
      "  byte_fallback: 0\n",
      "  vocabulary_output_piece_score: 1\n",
      "  train_extremely_large_corpus: 0\n",
      "  hard_vocab_limit: 1\n",
      "  use_all_vocab: 0\n",
      "  unk_id: 0\n",
      "  bos_id: 1\n",
      "  eos_id: 2\n",
      "  pad_id: -1\n",
      "  unk_piece: <unk>\n",
      "  bos_piece: <s>\n",
      "  eos_piece: </s>\n",
      "  pad_piece: <pad>\n",
      "  unk_surface:  ⁇ \n",
      "  enable_differential_privacy: 0\n",
      "  differential_privacy_noise_level: 0\n",
      "  differential_privacy_clipping_threshold: 0\n",
      "}\n",
      "normalizer_spec {\n",
      "  name: nmt_nfkc\n",
      "  add_dummy_prefix: 1\n",
      "  remove_extra_whitespaces: 1\n",
      "  escape_whitespaces: 1\n",
      "  normalization_rule_tsv: \n",
      "}\n",
      "denormalizer_spec {}\n",
      "trainer_interface.cc(351) LOG(INFO) SentenceIterator is not specified. Using MultiFileSentenceIterator.\n",
      "trainer_interface.cc(183) LOG(INFO) Loading corpus: imdb_review.txt\n",
      "trainer_interface.cc(378) LOG(WARNING) Found too long line (10321 > 9999).\n",
      "trainer_interface.cc(380) LOG(WARNING) Too long lines are skipped in the training.\n",
      "trainer_interface.cc(381) LOG(WARNING) The maximum length can be changed with --max_sentence_length=<size> flag.\n",
      "trainer_interface.cc(407) LOG(INFO) Loaded all 49994 sentences\n",
      "trainer_interface.cc(414) LOG(INFO) Skipped 6 too long sentences.\n",
      "trainer_interface.cc(423) LOG(INFO) Adding meta_piece: <unk>\n",
      "trainer_interface.cc(423) LOG(INFO) Adding meta_piece: <s>\n",
      "trainer_interface.cc(423) LOG(INFO) Adding meta_piece: </s>\n",
      "trainer_interface.cc(428) LOG(INFO) Normalizing sentences...\n",
      "trainer_interface.cc(537) LOG(INFO) all chars count=65449658\n",
      "trainer_interface.cc(548) LOG(INFO) Done: 99.9552% characters are covered.\n",
      "trainer_interface.cc(558) LOG(INFO) Alphabet size=76\n",
      "trainer_interface.cc(559) LOG(INFO) Final character coverage=0.999552\n",
      "trainer_interface.cc(591) LOG(INFO) Done! preprocessed 49994 sentences.\n",
      "trainer_interface.cc(597) LOG(INFO) Tokenizing input sentences with whitespace: 49994\n",
      "trainer_interface.cc(608) LOG(INFO) Done! 438648\n",
      "bpe_model_trainer.cc(171) LOG(INFO) Updating active symbols. max_freq=1557312 min_freq=370\n",
      "bpe_model_trainer.cc(280) LOG(INFO) Added: freq=384101 size=20 all=3611 active=1972 piece=en\n",
      "bpe_model_trainer.cc(280) LOG(INFO) Added: freq=220588 size=40 all=4932 active=3293 piece=om\n",
      "bpe_model_trainer.cc(280) LOG(INFO) Added: freq=158358 size=60 all=6355 active=4716 piece=ie\n",
      "bpe_model_trainer.cc(280) LOG(INFO) Added: freq=106638 size=80 all=7931 active=6292 piece=id\n",
      "bpe_model_trainer.cc(280) LOG(INFO) Added: freq=90444 size=100 all=9106 active=7467 piece=am\n",
      "bpe_model_trainer.cc(171) LOG(INFO) Updating active symbols. max_freq=90105 min_freq=5571\n",
      "bpe_model_trainer.cc(280) LOG(INFO) Added: freq=65629 size=120 all=10550 active=2264 piece=ally\n",
      "bpe_model_trainer.cc(280) LOG(INFO) Added: freq=54246 size=140 all=11849 active=3563 piece=▁D\n",
      "bpe_model_trainer.cc(280) LOG(INFO) Added: freq=46634 size=160 all=13189 active=4903 piece=el\n",
      "bpe_model_trainer.cc(280) LOG(INFO) Added: freq=40539 size=180 all=15057 active=6771 piece=est\n",
      "bpe_model_trainer.cc(280) LOG(INFO) Added: freq=37018 size=200 all=16856 active=8570 piece=▁r\n",
      "bpe_model_trainer.cc(171) LOG(INFO) Updating active symbols. max_freq=37013 min_freq=4976\n",
      "bpe_model_trainer.cc(280) LOG(INFO) Added: freq=33589 size=220 all=18215 active=2310 piece=▁just\n",
      "bpe_model_trainer.cc(280) LOG(INFO) Added: freq=30398 size=240 all=19801 active=3896 piece=▁un\n",
      "bpe_model_trainer.cc(280) LOG(INFO) Added: freq=27178 size=260 all=21138 active=5233 piece=▁get\n",
      "bpe_model_trainer.cc(280) LOG(INFO) Added: freq=24165 size=280 all=21984 active=6079 piece=▁bec\n",
      "bpe_model_trainer.cc(280) LOG(INFO) Added: freq=22036 size=300 all=22868 active=6962 piece=▁watch\n",
      "bpe_model_trainer.cc(171) LOG(INFO) Updating active symbols. max_freq=22031 min_freq=3786\n",
      "bpe_model_trainer.cc(280) LOG(INFO) Added: freq=20573 size=320 all=24301 active=2568 piece=▁kn\n",
      "bpe_model_trainer.cc(280) LOG(INFO) Added: freq=19165 size=340 all=26044 active=4311 piece=▁pe\n",
      "bpe_model_trainer.cc(280) LOG(INFO) Added: freq=18034 size=360 all=26902 active=5169 piece=▁how\n",
      "bpe_model_trainer.cc(280) LOG(INFO) Added: freq=16799 size=380 all=27929 active=6196 piece=other\n",
      "bpe_model_trainer.cc(280) LOG(INFO) Added: freq=15869 size=400 all=29091 active=7358 piece=▁direct\n",
      "bpe_model_trainer.cc(171) LOG(INFO) Updating active symbols. max_freq=15837 min_freq=2651\n",
      "bpe_model_trainer.cc(280) LOG(INFO) Added: freq=14689 size=420 all=30340 active=2692 piece=▁movies\n",
      "bpe_model_trainer.cc(280) LOG(INFO) Added: freq=13994 size=440 all=31418 active=3770 piece=ob\n",
      "bpe_model_trainer.cc(280) LOG(INFO) Added: freq=13210 size=460 all=32681 active=5033 piece=▁plot\n",
      "bpe_model_trainer.cc(280) LOG(INFO) Added: freq=12444 size=480 all=33133 active=5485 piece=ittle\n",
      "bpe_model_trainer.cc(280) LOG(INFO) Added: freq=11855 size=500 all=34396 active=6748 piece=ved\n",
      "bpe_model_trainer.cc(171) LOG(INFO) Updating active symbols. max_freq=11779 min_freq=2011\n",
      "bpe_model_trainer.cc(280) LOG(INFO) Added: freq=11066 size=520 all=35371 active=2659 piece=▁br\n",
      "bpe_model_trainer.cc(280) LOG(INFO) Added: freq=10275 size=540 all=36482 active=3770 piece=▁scenes\n",
      "bpe_model_trainer.cc(280) LOG(INFO) Added: freq=9925 size=560 all=37358 active=4646 piece=▁again\n",
      "bpe_model_trainer.cc(280) LOG(INFO) Added: freq=9439 size=580 all=38292 active=5580 piece=▁19\n",
      "bpe_model_trainer.cc(280) LOG(INFO) Added: freq=8915 size=600 all=38978 active=6266 piece=reen\n",
      "bpe_model_trainer.cc(171) LOG(INFO) Updating active symbols. max_freq=8909 min_freq=1638\n",
      "bpe_model_trainer.cc(280) LOG(INFO) Added: freq=8590 size=620 all=39970 active=2899 piece=▁fam\n",
      "bpe_model_trainer.cc(280) LOG(INFO) Added: freq=8189 size=640 all=40300 active=3229 piece=▁tra\n",
      "bpe_model_trainer.cc(280) LOG(INFO) Added: freq=7825 size=660 all=41154 active=4083 piece=oss\n",
      "bpe_model_trainer.cc(280) LOG(INFO) Added: freq=7505 size=680 all=41901 active=4830 piece=▁ter\n",
      "bpe_model_trainer.cc(280) LOG(INFO) Added: freq=7312 size=700 all=42577 active=5506 piece=hen\n",
      "bpe_model_trainer.cc(171) LOG(INFO) Updating active symbols. max_freq=7306 min_freq=1375\n",
      "bpe_model_trainer.cc(280) LOG(INFO) Added: freq=6993 size=720 all=43326 active=2798 piece=▁around\n",
      "bpe_model_trainer.cc(280) LOG(INFO) Added: freq=6722 size=740 all=44141 active=3613 piece=most\n",
      "bpe_model_trainer.cc(280) LOG(INFO) Added: freq=6507 size=760 all=44801 active=4273 piece=ately\n",
      "bpe_model_trainer.cc(280) LOG(INFO) Added: freq=6324 size=780 all=45371 active=4843 piece=▁es\n",
      "bpe_model_trainer.cc(280) LOG(INFO) Added: freq=6120 size=800 all=46028 active=5500 piece=▁tell\n",
      "bpe_model_trainer.cc(171) LOG(INFO) Updating active symbols. max_freq=6116 min_freq=1212\n",
      "bpe_model_trainer.cc(280) LOG(INFO) Added: freq=5985 size=820 all=46369 active=2634 piece=▁come\n",
      "bpe_model_trainer.cc(280) LOG(INFO) Added: freq=5811 size=840 all=46810 active=3075 piece=▁shot\n",
      "bpe_model_trainer.cc(280) LOG(INFO) Added: freq=5639 size=860 all=47369 active=3634 piece=ouse\n",
      "bpe_model_trainer.cc(280) LOG(INFO) Added: freq=5430 size=880 all=48019 active=4284 piece=▁An\n",
      "bpe_model_trainer.cc(280) LOG(INFO) Added: freq=5199 size=900 all=48725 active=4990 piece=▁ext\n",
      "bpe_model_trainer.cc(171) LOG(INFO) Updating active symbols. max_freq=5190 min_freq=1094\n",
      "bpe_model_trainer.cc(280) LOG(INFO) Added: freq=5048 size=920 all=49357 active=3049 piece=als\n",
      "bpe_model_trainer.cc(280) LOG(INFO) Added: freq=4903 size=940 all=50618 active=4310 piece=▁Be\n",
      "bpe_model_trainer.cc(280) LOG(INFO) Added: freq=4819 size=960 all=50968 active=4660 piece=▁believe\n",
      "bpe_model_trainer.cc(280) LOG(INFO) Added: freq=4677 size=980 all=51700 active=5392 piece=ommend\n",
      "bpe_model_trainer.cc(280) LOG(INFO) Added: freq=4568 size=1000 all=52297 active=5989 piece=▁boy\n",
      "bpe_model_trainer.cc(171) LOG(INFO) Updating active symbols. max_freq=4568 min_freq=961\n",
      "bpe_model_trainer.cc(280) LOG(INFO) Added: freq=4487 size=1020 all=52880 active=3190 piece=ray\n",
      "bpe_model_trainer.cc(280) LOG(INFO) Added: freq=4390 size=1040 all=53357 active=3667 piece=▁money\n",
      "bpe_model_trainer.cc(280) LOG(INFO) Added: freq=4299 size=1060 all=54338 active=4648 piece=▁For\n",
      "bpe_model_trainer.cc(280) LOG(INFO) Added: freq=4191 size=1080 all=54923 active=5233 piece=ues\n",
      "bpe_model_trainer.cc(280) LOG(INFO) Added: freq=4078 size=1100 all=55276 active=5586 piece=udget\n",
      "bpe_model_trainer.cc(171) LOG(INFO) Updating active symbols. max_freq=4070 min_freq=872\n",
      "bpe_model_trainer.cc(280) LOG(INFO) Added: freq=4013 size=1120 all=55852 active=3330 piece=cing\n",
      "bpe_model_trainer.cc(280) LOG(INFO) Added: freq=3934 size=1140 all=56599 active=4077 piece=▁beautiful\n",
      "bpe_model_trainer.cc(280) LOG(INFO) Added: freq=3813 size=1160 all=57309 active=4786 piece=▁home\n",
      "bpe_model_trainer.cc(280) LOG(INFO) Added: freq=3755 size=1180 all=57728 active=5205 piece=▁once\n",
      "bpe_model_trainer.cc(280) LOG(INFO) Added: freq=3650 size=1200 all=58426 active=5903 piece=▁open\n",
      "bpe_model_trainer.cc(171) LOG(INFO) Updating active symbols. max_freq=3648 min_freq=784\n",
      "bpe_model_trainer.cc(280) LOG(INFO) Added: freq=3573 size=1220 all=59047 active=3534 piece=▁exp\n",
      "bpe_model_trainer.cc(280) LOG(INFO) Added: freq=3490 size=1240 all=59620 active=4107 piece=▁along\n",
      "bpe_model_trainer.cc(280) LOG(INFO) Added: freq=3408 size=1260 all=59981 active=4468 piece=▁dra\n",
      "bpe_model_trainer.cc(280) LOG(INFO) Added: freq=3329 size=1280 all=60631 active=5118 piece=▁exam\n",
      "bpe_model_trainer.cc(280) LOG(INFO) Added: freq=3280 size=1300 all=61062 active=5549 piece=med\n",
      "bpe_model_trainer.cc(171) LOG(INFO) Updating active symbols. max_freq=3279 min_freq=719\n",
      "bpe_model_trainer.cc(280) LOG(INFO) Added: freq=3220 size=1320 all=61410 active=3340 piece=▁hero\n",
      "bpe_model_trainer.cc(280) LOG(INFO) Added: freq=3157 size=1340 all=61958 active=3888 piece=▁instead\n",
      "bpe_model_trainer.cc(280) LOG(INFO) Added: freq=3045 size=1360 all=62708 active=4638 piece=▁doing\n",
      "bpe_model_trainer.cc(280) LOG(INFO) Added: freq=3008 size=1380 all=63181 active=5111 piece=reme\n",
      "bpe_model_trainer.cc(280) LOG(INFO) Added: freq=2941 size=1400 all=63666 active=5596 piece=▁cor\n",
      "bpe_model_trainer.cc(171) LOG(INFO) Updating active symbols. max_freq=2937 min_freq=664\n",
      "bpe_model_trainer.cc(280) LOG(INFO) Added: freq=2884 size=1420 all=64123 active=3614 piece=▁develop\n",
      "bpe_model_trainer.cc(280) LOG(INFO) Added: freq=2818 size=1440 all=64653 active=4144 piece=▁stars\n",
      "bpe_model_trainer.cc(280) LOG(INFO) Added: freq=2755 size=1460 all=65239 active=4730 piece=ccess\n",
      "bpe_model_trainer.cc(280) LOG(INFO) Added: freq=2690 size=1480 all=65725 active=5216 piece=▁seemed\n",
      "bpe_model_trainer.cc(280) LOG(INFO) Added: freq=2647 size=1500 all=66045 active=5536 piece=▁several\n",
      "bpe_model_trainer.cc(171) LOG(INFO) Updating active symbols. max_freq=2644 min_freq=619\n",
      "bpe_model_trainer.cc(280) LOG(INFO) Added: freq=2597 size=1520 all=66478 active=3736 piece=▁adm\n",
      "bpe_model_trainer.cc(280) LOG(INFO) Added: freq=2549 size=1540 all=66932 active=4190 piece=▁although\n",
      "bpe_model_trainer.cc(280) LOG(INFO) Added: freq=2491 size=1560 all=67428 active=4686 piece=▁self\n",
      "bpe_model_trainer.cc(280) LOG(INFO) Added: freq=2440 size=1580 all=67834 active=5092 piece=▁works\n",
      "bpe_model_trainer.cc(280) LOG(INFO) Added: freq=2399 size=1600 all=68242 active=5500 piece=▁sn\n",
      "bpe_model_trainer.cc(171) LOG(INFO) Updating active symbols. max_freq=2399 min_freq=577\n",
      "bpe_model_trainer.cc(280) LOG(INFO) Added: freq=2370 size=1620 a"
     ]
    },
    {
     "name": "stderr",
     "output_type": "stream",
     "text": [
      "ll=68586 active=3709 piece=▁sat\n",
      "bpe_model_trainer.cc(280) LOG(INFO) Added: freq=2324 size=1640 all=69187 active=4310 piece=ern\n",
      "bpe_model_trainer.cc(280) LOG(INFO) Added: freq=2291 size=1660 all=69602 active=4725 piece=▁cult\n",
      "bpe_model_trainer.cc(280) LOG(INFO) Added: freq=2256 size=1680 all=69899 active=5022 piece=▁fig\n",
      "bpe_model_trainer.cc(280) LOG(INFO) Added: freq=2224 size=1700 all=70385 active=5508 piece=▁cost\n",
      "bpe_model_trainer.cc(171) LOG(INFO) Updating active symbols. max_freq=2224 min_freq=543\n",
      "bpe_model_trainer.cc(280) LOG(INFO) Added: freq=2192 size=1720 all=70846 active=3967 piece=▁happens\n",
      "bpe_model_trainer.cc(280) LOG(INFO) Added: freq=2151 size=1740 all=71385 active=4506 piece=▁fore\n",
      "bpe_model_trainer.cc(280) LOG(INFO) Added: freq=2108 size=1760 all=71863 active=4984 piece=gs\n",
      "bpe_model_trainer.cc(280) LOG(INFO) Added: freq=2077 size=1780 all=72390 active=5511 piece=ering\n",
      "bpe_model_trainer.cc(280) LOG(INFO) Added: freq=2047 size=1800 all=72864 active=5985 piece=▁cheap\n",
      "bpe_model_trainer.cc(171) LOG(INFO) Updating active symbols. max_freq=2046 min_freq=509\n",
      "bpe_model_trainer.cc(280) LOG(INFO) Added: freq=2019 size=1820 all=73259 active=4027 piece=▁move\n",
      "bpe_model_trainer.cc(280) LOG(INFO) Added: freq=1985 size=1840 all=73555 active=4323 piece=dy\n",
      "bpe_model_trainer.cc(280) LOG(INFO) Added: freq=1968 size=1860 all=74249 active=5017 piece=▁musical\n",
      "bpe_model_trainer.cc(280) LOG(INFO) Added: freq=1940 size=1880 all=74981 active=5749 piece=mp\n",
      "bpe_model_trainer.cc(280) LOG(INFO) Added: freq=1914 size=1900 all=75562 active=6330 piece=But\n",
      "bpe_model_trainer.cc(171) LOG(INFO) Updating active symbols. max_freq=1909 min_freq=475\n",
      "bpe_model_trainer.cc(280) LOG(INFO) Added: freq=1882 size=1920 all=75761 active=3970 piece=▁foc\n",
      "bpe_model_trainer.cc(280) LOG(INFO) Added: freq=1860 size=1940 all=75996 active=4205 piece=▁opinion\n",
      "bpe_model_trainer.cc(280) LOG(INFO) Added: freq=1841 size=1960 all=76442 active=4651 piece=▁possible\n",
      "bpe_model_trainer.cc(280) LOG(INFO) Added: freq=1812 size=1980 all=76904 active=5113 piece=aim\n",
      "bpe_model_trainer.cc(280) LOG(INFO) Added: freq=1797 size=2000 all=77293 active=5502 piece=▁usual\n",
      "bpe_model_trainer.cc(171) LOG(INFO) Updating active symbols. max_freq=1796 min_freq=452\n",
      "bpe_model_trainer.cc(280) LOG(INFO) Added: freq=1779 size=2020 all=77459 active=4030 piece=▁knew\n",
      "bpe_model_trainer.cc(280) LOG(INFO) Added: freq=1745 size=2040 all=77968 active=4539 piece=!\"\n",
      "bpe_model_trainer.cc(280) LOG(INFO) Added: freq=1716 size=2060 all=78438 active=5009 piece=▁ten\n",
      "bpe_model_trainer.cc(280) LOG(INFO) Added: freq=1700 size=2080 all=78981 active=5552 piece=▁Ne\n",
      "bpe_model_trainer.cc(280) LOG(INFO) Added: freq=1676 size=2100 all=79331 active=5902 piece=▁tells\n",
      "bpe_model_trainer.cc(171) LOG(INFO) Updating active symbols. max_freq=1675 min_freq=427\n",
      "bpe_model_trainer.cc(280) LOG(INFO) Added: freq=1648 size=2120 all=79667 active=4303 piece=light\n",
      "bpe_model_trainer.cc(280) LOG(INFO) Added: freq=1624 size=2140 all=80056 active=4692 piece=▁sets\n",
      "bpe_model_trainer.cc(280) LOG(INFO) Added: freq=1602 size=2160 all=80402 active=5038 piece=▁upon\n",
      "bpe_model_trainer.cc(280) LOG(INFO) Added: freq=1581 size=2180 all=80727 active=5363 piece=▁clearly\n",
      "bpe_model_trainer.cc(280) LOG(INFO) Added: freq=1562 size=2200 all=80912 active=5548 piece=▁feature\n",
      "bpe_model_trainer.cc(171) LOG(INFO) Updating active symbols. max_freq=1560 min_freq=409\n",
      "bpe_model_trainer.cc(280) LOG(INFO) Added: freq=1542 size=2220 all=81259 active=4391 piece=▁showing\n",
      "bpe_model_trainer.cc(280) LOG(INFO) Added: freq=1522 size=2240 all=81653 active=4785 piece=ltim\n",
      "bpe_model_trainer.cc(280) LOG(INFO) Added: freq=1503 size=2260 all=82061 active=5193 piece=EA\n",
      "bpe_model_trainer.cc(280) LOG(INFO) Added: freq=1491 size=2280 all=82516 active=5648 piece=▁feels\n",
      "bpe_model_trainer.cc(280) LOG(INFO) Added: freq=1473 size=2300 all=82836 active=5968 piece=bs\n",
      "bpe_model_trainer.cc(171) LOG(INFO) Updating active symbols. max_freq=1473 min_freq=386\n",
      "bpe_model_trainer.cc(280) LOG(INFO) Added: freq=1448 size=2320 all=83040 active=4278 piece=▁tre\n",
      "bpe_model_trainer.cc(280) LOG(INFO) Added: freq=1432 size=2340 all=83288 active=4526 piece=▁*\n",
      "bpe_model_trainer.cc(280) LOG(INFO) Added: freq=1408 size=2360 all=83828 active=5066 piece=▁begins\n",
      "bpe_model_trainer.cc(280) LOG(INFO) Added: freq=1397 size=2380 all=84097 active=5335 piece=▁background\n",
      "bpe_model_trainer.cc(280) LOG(INFO) Added: freq=1372 size=2400 all=84332 active=5570 piece=esome\n",
      "bpe_model_trainer.cc(171) LOG(INFO) Updating active symbols. max_freq=1372 min_freq=370\n",
      "bpe_model_trainer.cc(280) LOG(INFO) Added: freq=1358 size=2420 all=84823 active=4701 piece=lfriend\n",
      "bpe_model_trainer.cc(280) LOG(INFO) Added: freq=1337 size=2440 all=85169 active=5047 piece=▁From\n",
      "bpe_model_trainer.cc(280) LOG(INFO) Added: freq=1321 size=2460 all=85531 active=5409 piece=▁tast\n",
      "bpe_model_trainer.cc(280) LOG(INFO) Added: freq=1307 size=2480 all=85808 active=5686 piece=ee\n",
      "bpe_model_trainer.cc(280) LOG(INFO) Added: freq=1295 size=2500 all=86179 active=6057 piece=▁King\n",
      "bpe_model_trainer.cc(171) LOG(INFO) Updating active symbols. max_freq=1294 min_freq=352\n",
      "bpe_model_trainer.cc(280) LOG(INFO) Added: freq=1278 size=2520 all=86653 active=4777 piece=▁prop\n",
      "bpe_model_trainer.cc(280) LOG(INFO) Added: freq=1261 size=2540 all=87066 active=5190 piece=over\n",
      "bpe_model_trainer.cc(280) LOG(INFO) Added: freq=1250 size=2560 all=87446 active=5570 piece=▁quickly\n",
      "bpe_model_trainer.cc(280) LOG(INFO) Added: freq=1240 size=2580 all=87767 active=5891 piece=▁oper\n",
      "bpe_model_trainer.cc(280) LOG(INFO) Added: freq=1227 size=2600 all=88178 active=6302 piece=acy\n",
      "bpe_model_trainer.cc(171) LOG(INFO) Updating active symbols. max_freq=1227 min_freq=337\n",
      "bpe_model_trainer.cc(280) LOG(INFO) Added: freq=1214 size=2620 all=88552 active=4740 piece=▁Japanese\n",
      "bpe_model_trainer.cc(280) LOG(INFO) Added: freq=1201 size=2640 all=88940 active=5128 piece=ze\n",
      "bpe_model_trainer.cc(280) LOG(INFO) Added: freq=1189 size=2660 all=89189 active=5377 piece=ana\n",
      "bpe_model_trainer.cc(280) LOG(INFO) Added: freq=1178 size=2680 all=89606 active=5794 piece=▁collect\n",
      "bpe_model_trainer.cc(280) LOG(INFO) Added: freq=1165 size=2700 all=89868 active=6056 piece=▁spent\n",
      "bpe_model_trainer.cc(171) LOG(INFO) Updating active symbols. max_freq=1165 min_freq=324\n",
      "bpe_model_trainer.cc(280) LOG(INFO) Added: freq=1151 size=2720 all=90214 active=4840 piece=▁Lu\n",
      "bpe_model_trainer.cc(280) LOG(INFO) Added: freq=1138 size=2740 all=90584 active=5209 piece=▁attempts\n",
      "bpe_model_trainer.cc(280) LOG(INFO) Added: freq=1121 size=2760 all=91034 active=5659 piece=▁Bra\n",
      "bpe_model_trainer.cc(280) LOG(INFO) Added: freq=1109 size=2780 all=91300 active=5925 piece=▁ended\n",
      "bpe_model_trainer.cc(280) LOG(INFO) Added: freq=1099 size=2800 all=91577 active=6202 piece=▁fighting\n",
      "bpe_model_trainer.cc(171) LOG(INFO) Updating active symbols. max_freq=1096 min_freq=310\n",
      "bpe_model_trainer.cc(280) LOG(INFO) Added: freq=1088 size=2820 all=92053 active=5054 piece=▁World\n",
      "bpe_model_trainer.cc(280) LOG(INFO) Added: freq=1078 size=2840 all=92347 active=5348 piece=cent\n",
      "bpe_model_trainer.cc(280) LOG(INFO) Added: freq=1066 size=2860 all=92609 active=5610 piece=▁Pro\n",
      "bpe_model_trainer.cc(280) LOG(INFO) Added: freq=1057 size=2880 all=92918 active=5919 piece=ha\n",
      "bpe_model_trainer.cc(280) LOG(INFO) Added: freq=1046 size=2900 all=93183 active=6184 piece=umes\n",
      "bpe_model_trainer.cc(171) LOG(INFO) Updating active symbols. max_freq=1046 min_freq=298\n",
      "bpe_model_trainer.cc(280) LOG(INFO) Added: freq=1037 size=2920 all=93452 active=4913 piece=▁decides\n",
      "bpe_model_trainer.cc(280) LOG(INFO) Added: freq=1028 size=2940 all=93721 active=5182 piece=berg\n",
      "bpe_model_trainer.cc(280) LOG(INFO) Added: freq=1019 size=2960 all=94051 active=5512 piece=▁explo\n",
      "bpe_model_trainer.cc(280) LOG(INFO) Added: freq=1008 size=2980 all=94300 active=5761 piece=ashion\n",
      "bpe_model_trainer.cc(280) LOG(INFO) Added: freq=999 size=3000 all=94880 active=6341 piece=uster\n",
      "bpe_model_trainer.cc(171) LOG(INFO) Updating active symbols. max_freq=998 min_freq=284\n",
      "bpe_model_trainer.cc(280) LOG(INFO) Added: freq=984 size=3020 all=95216 active=5061 piece=idden\n",
      "bpe_model_trainer.cc(280) LOG(INFO) Added: freq=972 size=3040 all=95522 active=5367 piece=▁longer\n",
      "bpe_model_trainer.cc(280) LOG(INFO) Added: freq=964 size=3060 all=95846 active=5691 piece=▁company\n",
      "bpe_model_trainer.cc(280) LOG(INFO) Added: freq=953 size=3080 all=96192 active=6037 piece=000\n",
      "bpe_model_trainer.cc(280) LOG(INFO) Added: freq=944 size=3100 all=96622 active=6467 piece=▁breat\n",
      "bpe_model_trainer.cc(171) LOG(INFO) Updating active symbols. max_freq=944 min_freq=274\n",
      "bpe_model_trainer.cc(280) LOG(INFO) Added: freq=939 size=3120 all=96746 active=4949 piece=▁changed\n",
      "bpe_model_trainer.cc(280) LOG(INFO) Added: freq=928 size=3140 all=96853 active=5056 piece=▁Love\n",
      "bpe_model_trainer.cc(280) LOG(INFO) Added: freq=915 size=3160 all=97152 active=5355 piece=mon\n",
      "bpe_model_trainer.cc(280) LOG(INFO) Added: freq=910 size=3180 all=97433 active=5636 piece=▁failed\n",
      "bpe_model_trainer.cc(280) LOG(INFO) Added: freq=902 size=3200 all=97574 active=5777 piece=▁trash\n",
      "bpe_model_trainer.cc(171) LOG(INFO) Updating active symbols. max_freq=901 min_freq=268\n",
      "bpe_model_trainer.cc(280) LOG(INFO) Added: freq=894 size=3220 all=97854 active=5153 piece=▁accur\n",
      "bpe_model_trainer.cc(280) LOG(INFO) Added: freq=887 size=3240 all=98314 active=5613 piece=▁bomb\n",
      "bpe_model_trainer.cc(280) LOG(INFO) Added: freq=878 size=3260 all=98614 active=5913 piece=▁Dra\n",
      "bpe_model_trainer.cc(280) LOG(INFO) Added: freq=872 size=3280 all=98800 active=6099 piece=▁runs\n",
      "bpe_model_trainer.cc(280) LOG(INFO) Added: freq=864 size=3300 all=99075 active=6374 piece=▁Ber\n",
      "bpe_model_trainer.cc(171) LOG(INFO) Updating active symbols. max_freq=864 min_freq=258\n",
      "bpe_model_trainer.cc(280) LOG(INFO) Added: freq=857 size=3320 all=99425 active=5265 piece=lessly\n",
      "bpe_model_trainer.cc(280) LOG(INFO) Added: freq=848 size=3340 all=99866 active=5706 piece=▁smart\n",
      "bpe_model_trainer.cc(280) LOG(INFO) Added: freq=841 size=3360 all=100282 active=6122 piece=opher\n",
      "bpe_model_trainer.cc(280) LOG(INFO) Added: freq=833 size=3380 all=100473 active=6313 piece=▁normal\n",
      "bpe_model_trainer.cc(280) LOG(INFO) Added: freq=826 size=3400 all=100654 active=6494 piece=\".<\n",
      "bpe_model_trainer.cc(171) LOG(INFO) Updating active symbols. max_freq=826 min_freq=249\n",
      "bpe_model_trainer.cc(280) LOG(INFO) Added: freq=819 size=3420 all=100794 active=5158 piece=▁suppose\n",
      "bpe_model_trainer.cc(280) LOG(INFO) Added: freq=813 size=3440 all=100946 active=5310 piece=▁jo\n",
      "bpe_model_trainer.cc(280) LOG(INFO) Added: freq=806 size=3460 all=101157 active=5521 piece=▁demon\n",
      "bpe_model_trainer.cc(280) LOG(INFO) Added: freq=799 size=3480 all=101415 active=5779 piece=▁tone\n",
      "bpe_model_trainer.cc(280) LOG(INFO) Added: freq=793 size=3500 all=101659 active=6023 piece=▁Ant\n",
      "bpe_model_trainer.cc(171) LOG(INFO) Updating active symbols. max_freq=793 min_freq=242\n",
      "bpe_model_trainer.cc(280) LOG(INFO) Added: freq=787 size=3520 all=101992 active=5384 piece=arsh\n",
      "bpe_model_trainer.cc(280) LOG(INFO) Added: freq=780 size=3540 all=102176 active=5568 piece=field\n",
      "bpe_model_trainer.cc(280) LOG(INFO) Added: freq=773 size=3560 all=102533 active=5925 piece=▁ur\n",
      "bpe_model_trainer.cc(280) LOG(INFO) Added: freq=767 size=3580 all=102719 active=6111 piece=▁makers\n",
      "bpe_model_trainer.cc(280) LOG(INFO) Added: freq=760 size=3600 all=103008 active=6400 piece=CH\n",
      "bpe_model_trainer.cc(171) LOG(INFO) Updating active symbols. max_freq=759 min_freq=234\n",
      "bpe_model_trainer.cc(280) LOG(INFO) Added: freq=754 size=3620 all=103269 active=5348 piece=▁element\n",
      "bpe_model_trainer.cc(280) LOG(INFO) Added: freq=748 size=3640 all=103402 active=5481 piece=▁current\n",
      "bpe_model_trainer.cc(280) LOG(INFO) Added: freq=742 size=3660 all=103707 active=5786 piece=▁drive\n",
      "bpe_model_trainer.cc(280) LOG(INFO) Added: freq=733 size=3680 all=104052 active=6131 piece=▁Yet\n",
      "bpe_model_trainer.cc(280) LOG(INFO) Added: freq=728 size=3700 all=104235 active=6314 piece=▁students\n",
      "bpe_model_trainer.cc(171) LOG(INFO) Updating active symbols. max_freq=727 min_freq=228\n",
      "bpe_model_trainer.cc(280) LOG(INFO) Added: freq=722 size=3720 all=104630 active=5607 piece=▁irrit\n",
      "bpe_model_trainer.cc(280) LOG(INFO) Added: freq=714 size=3740 all=104878 active=5855 piece=▁trag\n",
      "bpe_model_trainer.cc(280) LOG(INFO) Added: freq=710 size=3760 all=105039 active=6016 piece=▁drawn\n",
      "bpe_model_trainer.cc(280) LOG(INFO) Added: freq=704 size=3780 all=105222 active=6199 piece=▁confused\n",
      "bpe_model_trainer.cc(280) LOG(INFO) Added: freq=699 size=3800 all=105520 active=6497 piece=▁hospital\n",
      "bpe_model_trainer.cc(171) LOG(INFO) Updating active symbols. max_freq=698 min_freq=222\n",
      "bpe_model_trainer.cc(280) LOG(INFO) Added: freq=692 size=3820 all=105761 active=5514 piece=▁Kelly\n",
      "bpe_model_trainer.cc(280) LOG(INFO) Added: freq=687 size=3840 all=106078 active=5831 piece=▁symbol\n",
      "bpe_model_trainer.cc(280) LOG(INFO) Added: freq=682 size=3860 all=106379 active=6132 piece=▁joy\n",
      "bpe_model_trainer.cc(280) LOG(INFO) Added: freq=676 size=3880 all=106592 active=6345 piece=azz\n",
      "bpe_model_trainer.cc(280) LOG(INFO) Added: freq=672 size=3900 all=106958 active=6711 piece=▁bi\n",
      "bpe_model_trainer.cc(171) LOG(INFO) Updating active symbols. max_freq=672 min_freq=216\n",
      "bpe_model_trainer.cc(280) LOG(INFO) Added: freq=669 size=3920 all=107164 active=5538 piece=▁market\n",
      "bpe_model_trainer.cc(280) LOG(INFO) Added: freq=664 size=3940 all=107326 active=5699 piece=▁pen\n",
      "bpe_model_trainer.cc(280) LOG(INFO) Added: freq=660 size=3960 all=107556 active=5929 piece=▁mat\n",
      "bpe_model_trainer.cc(280) LOG(INFO) Added: freq=657 size=3980 all=107897 active=6270 piece=▁fort\n",
      "bpe_model_trainer.cc(280) LOG(INFO) Added: freq=652 size=4000 all=108176 active=6549 piece=she\n",
      "bpe_model_trainer.cc(171) LOG(INFO) Updating active symbols. max_freq=652 min_freq=210\n",
      "bpe_model_trainer.cc(280) LOG(INFO) Added: freq=649 size=4020 all=108386 active=5592 piece=ishes\n",
      "bpe_model_trainer.cc(280) LOG(INFO) Added: freq=646 size=4040 all=108572 active=5778 piece=▁member\n",
      "bpe_model_trainer.cc(280) LOG(INFO) Added: freq=641 size=4060 all=108880 active=6086 piece=odies\n",
      "bpe_model_trainer.cc(280) LOG(INFO) Added: freq=636 size=4080 all=109044 active=6250 piece=ffe\n",
      "bpe_model_trainer.cc(280) LOG(INFO) Added: freq=632 size=4100 all=109338 active=6544 piece=▁rated\n",
      "bpe_model_trainer.cc(171) LOG(INFO) Updating active symbols. max_freq=632 min_freq=205\n",
      "bpe_model_trainer.cc(280) LOG(INFO) Added: freq=626 size=4120 all=109552 active=5681 piece=▁began\n",
      "bpe_model_trainer.cc(280) LOG(INFO) Added: freq=620 size=4140 all=109679 active=5808 piece=▁realized\n",
      "bpe_model_trainer.cc(280) LOG(INFO) Added: freq=615 size=4160 all=109896 active=6025 piece=▁depart\n",
      "bpe_model_trainer.cc(280) LOG(INFO) Added: freq=611 size=4180 all=110267 active=6396 piece=▁artistic\n",
      "bpe_model_trainer.cc(280) LOG(INFO) Added: freq=607 size=4200 all=110534 active=6663 piece=▁energy\n",
      "bpe_model_trainer.cc(171) LOG(INFO) Updating active symbols. max_freq=607 min_freq=200\n",
      "bpe_model_trainer.cc(280) LOG(INFO) Added: freq=603 size=4220 all=110795 active=5788 piece=▁necessary\n",
      "bpe_model_trainer.cc(280) LOG(INFO) Added: freq=599 size=4240 all=111094 active=6087 piece=▁intriguing\n",
      "bpe_model_trainer.cc(280) LOG(INFO) Added: freq=596 size=4260 all=111301 active=6294 piece=▁deserve\n",
      "bpe_model_trainer.cc(280) LOG(INFO) Added: freq=590 size=4280 all=111377 active=6370 piece=▁intelligence\n",
      "bpe_model_trainer.cc(280) LOG(INFO) Added: freq=587 size=4300 all=111611 active=6604 piece=entious\n",
      "bpe_model_trainer.cc(171) LOG(INFO) Updating active symbols. max_freq=587 min_freq=195\n",
      "bpe_model_trainer.cc(280) LOG(INFO) Added: freq=583 size=4320 all=111811 active=5773 piece=▁Cam\n",
      "bpe_model_trainer.cc(280) LOG(INFO) Added: freq=580 size=4340 all=112034 active=5996 piece=▁elect\n",
      "bpe_model_trainer.cc(280) LOG(INFO) Added: freq=575 size=4360 all=112355 active=6317 piece=bered\n",
      "bpe_model_trainer.cc(280) LOG(INFO) Added: freq=570 size=4380 all=112667 active=6629 piece=ording\n",
      "bpe_model_trainer.cc(280) LOG(INFO) Added: freq=567 size=4400 all=112885 active=6847 piece=▁surreal\n",
      "bpe_model_trainer.cc(171) LOG(INFO) Updating active symbols. max_freq=566 min_freq=190\n",
      "bpe_model_trainer.cc(280) LOG(INFO) Added: freq=563 size=4420 all=113186 active=5942 piece=▁issue\n",
      "bpe_model_trainer.cc(280) LOG(INFO) Added: freq=559 size=4440 all=113400 active=6156 piece=hered\n",
      "bpe_model_trainer.cc(280) LOG(INFO) Added: freq=557 size=4460 all=113502 active=6258 piece=▁learned\n",
      "bpe_model_trainer.cc(280) LOG(INFO) Added: freq=553 size=4480 all=113778 active=6534 piece=▁months\n",
      "bpe_model_trainer.cc(280) LOG(INFO) Added: freq=549 size=4500 all=113949 active=6705 piece=▁Danny\n",
      "bpe_model_trainer.cc(171) LOG(INFO) Updating active symbols. max_freq=549 min_freq=185\n",
      "bpe_model_trainer.cc(280) LOG(INFO) Added: freq=546 size=4520 all=114169 active=5918 piece=▁mental\n",
      "bpe_model_trainer.cc(280) LOG(INFO) Added: freq=542 size=4540 all=114402 active=6151 piece=▁Ter\n",
      "bpe_model_trainer.cc(280) LOG(INFO) Added: freq=539 size=4560 all=114573 active=6322 piece=▁efforts\n",
      "bpe_model_trainer.cc(280) LOG(INFO) Added: freq=535 size=4580 all=114818 active=6567 piece=▁floor\n",
      "bpe_model_trainer.cc(280) LOG(INFO) Added: freq=532 size=4600 all=114982 active=6731 piece=▁rubbish\n",
      "bpe_model_trainer.cc(171) LOG(INFO) Updating active symbols. max_freq=531 min_freq=182\n",
      "bpe_model_trainer.cc(280) LOG(INFO) Added: freq=529 size=4620 all=115141 active=5908 piece=▁survive\n",
      "bpe_model_trainer.cc(280) LOG(INFO) Added: freq=526 size=4640 all=115303 active=6070 piece=▁hidden\n",
      "bpe_model_trainer.cc(280) LOG(INFO) Added: freq=522 size=4660 all=115544 active=6311 piece=aren\n",
      "bpe_model_trainer.cc(280) LOG(INFO) Added: freq=520 size=4680 all=115796 active=6563 piece=▁mixed\n",
      "bpe_model_trainer.cc(280) LOG(INFO) Added: freq=516 size=4700 all=115930 active=6697 piece=they\n",
      "bpe_model_trainer.cc(171) LOG(INFO) Updating active symbols. max_freq=516 min_freq=177\n",
      "bpe_model_trainer.cc(280) LOG(INFO) Added: freq=513 size=4720 all=116053 active=5918 piece=▁text\n",
      "bpe_model_trainer.cc(280) LOG(INFO) Added: freq=510 size=4740 all=116265 active=6130 piece=elle\n",
      "bpe_model_trainer.cc(280) LOG(INFO) Added: freq=507 size=4760 all=116412 active=6277 piece=▁revealed\n",
      "bpe_model_trainer.cc(280) LOG(INFO) Added: freq=503 size=4780 all=116801 active=6666 piece=▁window\n",
      "bpe_model_trainer.cc(280) LOG(INFO) Added: freq=500 size=4800 all=116988 active=6853 piece=▁ing\n",
      "bpe_model_trainer.cc(171) LOG(INFO) Updating active symbols. max_freq=500 min_freq=173\n",
      "bpe_model_trainer.cc(280) LOG(INFO) Added: freq=497 size=4820 all=117337 active=6189 piece=▁sed\n",
      "bpe_model_trainer.cc(280) LOG(INFO) Added: freq=495 size=4840 all=117559 active=6411 piece=▁environ\n",
      "bpe_model_trainer.cc(280) LOG(INFO) Added: freq=492 size=4860 all=117823 active=6675 piece=▁pretentious\n",
      "bpe_model_trainer.cc(280) LOG(INFO) Added: freq=489 size=4880 all=118019 active=6871 piece=▁teenagers\n",
      "bpe_model_trainer.cc(280) LOG(INFO) Added: freq=486 size=4900 all=118162 active=7014 piece=▁fra\n",
      "bpe_model_trainer.cc(171) LOG(INFO) Updating active symbols. max_freq=486 min_freq=168\n",
      "bpe_model_trainer.cc(280) LOG(INFO) Added: freq=484 size=4920 all=118371 active=6105 piece=▁miser\n",
      "trainer_interface.cc(686) LOG(INFO) Saving model: imdb.model\n",
      "trainer_interface.cc(698) LOG(INFO) Saving vocabs: imdb.vocab\n"
     ]
    }
   ],
   "source": [
    "# input : 학습시킬 파일\n",
    "# model_prefix : 만들어질 모델 이름\n",
    "# vocab_size : 단어 집합의 크기\n",
    "# model_type : 사용할 모델 (unigram(default), bpe, char, word)\n",
    "# max_sentence_length: 문장의 최대 길이\n",
    "# pad_id, pad_piece: pad token id, 값\n",
    "# unk_id, unk_piece: unknown token id, 값\n",
    "# bos_id, bos_piece: begin of sentence token id, 값\n",
    "# eos_id, eos_piece: end of sequence token id, 값\n",
    "# user_defined_symbols: 사용자 정의 토큰\n",
    "\n",
    "spm.SentencePieceTrainer.Train('--input=imdb_review.txt --model_prefix=imdb --vocab_size=5000 --model_type=bpe --max_sentence_length=9999')"
   ]
  },
  {
   "cell_type": "code",
   "execution_count": 39,
   "metadata": {},
   "outputs": [
    {
     "data": {
      "text/html": [
       "<div>\n",
       "<style scoped>\n",
       "    .dataframe tbody tr th:only-of-type {\n",
       "        vertical-align: middle;\n",
       "    }\n",
       "\n",
       "    .dataframe tbody tr th {\n",
       "        vertical-align: top;\n",
       "    }\n",
       "\n",
       "    .dataframe thead th {\n",
       "        text-align: right;\n",
       "    }\n",
       "</style>\n",
       "<table border=\"1\" class=\"dataframe\">\n",
       "  <thead>\n",
       "    <tr style=\"text-align: right;\">\n",
       "      <th></th>\n",
       "      <th>0</th>\n",
       "      <th>1</th>\n",
       "    </tr>\n",
       "  </thead>\n",
       "  <tbody>\n",
       "    <tr>\n",
       "      <th>1901</th>\n",
       "      <td>▁stay</td>\n",
       "      <td>-1898</td>\n",
       "    </tr>\n",
       "    <tr>\n",
       "      <th>78</th>\n",
       "      <td>se</td>\n",
       "      <td>-75</td>\n",
       "    </tr>\n",
       "    <tr>\n",
       "      <th>3</th>\n",
       "      <td>▁t</td>\n",
       "      <td>0</td>\n",
       "    </tr>\n",
       "  </tbody>\n",
       "</table>\n",
       "</div>"
      ],
      "text/plain": [
       "          0     1\n",
       "1901  ▁stay -1898\n",
       "78       se   -75\n",
       "3        ▁t     0"
      ]
     },
     "execution_count": 39,
     "metadata": {},
     "output_type": "execute_result"
    }
   ],
   "source": [
    "vocab_list = pd.read_csv('imdb.vocab', sep='\\t', header=None, quoting=csv.QUOTE_NONE)\n",
    "vocab_list.sample(3)"
   ]
  },
  {
   "cell_type": "code",
   "execution_count": 40,
   "metadata": {},
   "outputs": [
    {
     "data": {
      "text/plain": [
       "True"
      ]
     },
     "execution_count": 40,
     "metadata": {},
     "output_type": "execute_result"
    }
   ],
   "source": [
    "sp = spm.SentencePieceProcessor()\n",
    "vocab_file = 'imdb.model'\n",
    "sp.load(vocab_file)"
   ]
  },
  {
   "cell_type": "code",
   "execution_count": 41,
   "metadata": {},
   "outputs": [
    {
     "name": "stdout",
     "output_type": "stream",
     "text": [
      "I didn't at all think of it this way.\n",
      "['▁I', '▁didn', \"'\", 't', '▁at', '▁all', '▁think', '▁of', '▁it', '▁this', '▁way', '.']\n",
      "[41, 623, 4950, 4926, 138, 169, 378, 30, 58, 73, 413, 4945]\n",
      "\n",
      "I have waited a long time for someone to film\n",
      "['▁I', '▁have', '▁wa', 'ited', '▁a', '▁long', '▁time', '▁for', '▁someone', '▁to', '▁film']\n",
      "[41, 141, 1364, 1120, 4, 666, 285, 92, 1078, 33, 91]\n",
      "\n"
     ]
    }
   ],
   "source": [
    "lines = [\"I didn't at all think of it this way.\", \n",
    "         \"I have waited a long time for someone to film\"]\n",
    "for line in lines:\n",
    "    print(line)\n",
    "    print(sp.encode_as_pieces(line))\n",
    "    print(sp.encode_as_ids(line))\n",
    "    print()"
   ]
  },
  {
   "cell_type": "code",
   "execution_count": 48,
   "metadata": {},
   "outputs": [
    {
     "name": "stdout",
     "output_type": "stream",
     "text": [
      "5000\n",
      "▁character\n",
      "430\n",
      "I have waited a long time for someone to film\n",
      "I have waited a long time for someone to film\n",
      "['▁I', '▁have', '▁wa', 'ited', '▁a', '▁long', '▁time', '▁for', '▁someone', '▁to', '▁film']\n",
      "[41, 141, 1364, 1120, 4, 666, 285, 92, 1078, 33, 91]\n"
     ]
    }
   ],
   "source": [
    "print(sp.GetPieceSize())\n",
    "print(sp.IdToPiece(430))\n",
    "print(sp.PieceToId('▁character'))\n",
    "print(sp.DecodeIds([41, 141, 1364, 1120, 4, 666, 285, 92, 1078, 33, 91]))\n",
    "print(sp.DecodePieces(\n",
    "    ['▁I', '▁have', '▁wa', 'ited', '▁a', '▁long', '▁time', '▁for', '▁someone', '▁to', '▁film']))\n",
    "print(sp.encode('I have waited a long time for someone to film', out_type=str))\n",
    "print(sp.encode('I have waited a long time for someone to film', out_type=int))"
   ]
  },
  {
   "cell_type": "code",
   "execution_count": 2,
   "metadata": {},
   "outputs": [
    {
     "data": {
      "text/html": [
       "<div>\n",
       "<style scoped>\n",
       "    .dataframe tbody tr th:only-of-type {\n",
       "        vertical-align: middle;\n",
       "    }\n",
       "\n",
       "    .dataframe tbody tr th {\n",
       "        vertical-align: top;\n",
       "    }\n",
       "\n",
       "    .dataframe thead th {\n",
       "        text-align: right;\n",
       "    }\n",
       "</style>\n",
       "<table border=\"1\" class=\"dataframe\">\n",
       "  <thead>\n",
       "    <tr style=\"text-align: right;\">\n",
       "      <th></th>\n",
       "      <th>id</th>\n",
       "      <th>document</th>\n",
       "      <th>label</th>\n",
       "    </tr>\n",
       "  </thead>\n",
       "  <tbody>\n",
       "    <tr>\n",
       "      <th>0</th>\n",
       "      <td>8112052</td>\n",
       "      <td>어릴때보고 지금다시봐도 재밌어요ㅋㅋ</td>\n",
       "      <td>1</td>\n",
       "    </tr>\n",
       "    <tr>\n",
       "      <th>1</th>\n",
       "      <td>8132799</td>\n",
       "      <td>디자인을 배우는 학생으로, 외국디자이너와 그들이 일군 전통을 통해 발전해가는 문화산...</td>\n",
       "      <td>1</td>\n",
       "    </tr>\n",
       "    <tr>\n",
       "      <th>2</th>\n",
       "      <td>4655635</td>\n",
       "      <td>폴리스스토리 시리즈는 1부터 뉴까지 버릴께 하나도 없음.. 최고.</td>\n",
       "      <td>1</td>\n",
       "    </tr>\n",
       "    <tr>\n",
       "      <th>3</th>\n",
       "      <td>9251303</td>\n",
       "      <td>와.. 연기가 진짜 개쩔구나.. 지루할거라고 생각했는데 몰입해서 봤다.. 그래 이런...</td>\n",
       "      <td>1</td>\n",
       "    </tr>\n",
       "    <tr>\n",
       "      <th>4</th>\n",
       "      <td>10067386</td>\n",
       "      <td>안개 자욱한 밤하늘에 떠 있는 초승달 같은 영화.</td>\n",
       "      <td>1</td>\n",
       "    </tr>\n",
       "  </tbody>\n",
       "</table>\n",
       "</div>"
      ],
      "text/plain": [
       "         id                                           document  label\n",
       "0   8112052                                어릴때보고 지금다시봐도 재밌어요ㅋㅋ      1\n",
       "1   8132799  디자인을 배우는 학생으로, 외국디자이너와 그들이 일군 전통을 통해 발전해가는 문화산...      1\n",
       "2   4655635               폴리스스토리 시리즈는 1부터 뉴까지 버릴께 하나도 없음.. 최고.      1\n",
       "3   9251303  와.. 연기가 진짜 개쩔구나.. 지루할거라고 생각했는데 몰입해서 봤다.. 그래 이런...      1\n",
       "4  10067386                        안개 자욱한 밤하늘에 떠 있는 초승달 같은 영화.      1"
      ]
     },
     "execution_count": 2,
     "metadata": {},
     "output_type": "execute_result"
    }
   ],
   "source": [
    "import pandas as pd\n",
    "import sentencepiece as spm\n",
    "import urllib.request\n",
    "import csv\n",
    "\n",
    "urllib.request.urlretrieve(\"https://raw.githubusercontent.com/e9t/nsmc/master/ratings.txt\", filename=\"ratings.txt\")\n",
    "naver_df = pd.read_table('ratings.txt')\n",
    "naver_df[:5]"
   ]
  },
  {
   "cell_type": "code",
   "execution_count": 3,
   "metadata": {},
   "outputs": [
    {
     "name": "stdout",
     "output_type": "stream",
     "text": [
      "True\n"
     ]
    }
   ],
   "source": [
    "print(naver_df.isnull().values.any())"
   ]
  },
  {
   "cell_type": "code",
   "execution_count": 4,
   "metadata": {},
   "outputs": [
    {
     "name": "stdout",
     "output_type": "stream",
     "text": [
      "False\n"
     ]
    }
   ],
   "source": [
    "naver_df = naver_df.dropna(how='any')\n",
    "print(naver_df.isnull().values.any())"
   ]
  },
  {
   "cell_type": "code",
   "execution_count": 5,
   "metadata": {},
   "outputs": [],
   "source": [
    "with open('naver_review.txt', 'w', encoding='utf8') as f:\n",
    "    f.write('\\n'.join(naver_df['document']))"
   ]
  },
  {
   "cell_type": "code",
   "execution_count": 6,
   "metadata": {},
   "outputs": [
    {
     "name": "stderr",
     "output_type": "stream",
     "text": [
      "sentencepiece_trainer.cc(177) LOG(INFO) Running command: --input=naver_review.txt --model_prefix=naver --vocab_size=5000 --model_type=bpe --max_sentence_length=9999\n",
      "sentencepiece_trainer.cc(77) LOG(INFO) Starts training with : \n",
      "trainer_spec {\n",
      "  input: naver_review.txt\n",
      "  input_format: \n",
      "  model_prefix: naver\n",
      "  model_type: BPE\n",
      "  vocab_size: 5000\n",
      "  self_test_sample_size: 0\n",
      "  character_coverage: 0.9995\n",
      "  input_sentence_size: 0\n",
      "  shuffle_input_sentence: 1\n",
      "  seed_sentencepiece_size: 1000000\n",
      "  shrinking_factor: 0.75\n",
      "  max_sentence_length: 9999\n",
      "  num_threads: 16\n",
      "  num_sub_iterations: 2\n",
      "  max_sentencepiece_length: 16\n",
      "  split_by_unicode_script: 1\n",
      "  split_by_number: 1\n",
      "  split_by_whitespace: 1\n",
      "  split_digits: 0\n",
      "  pretokenization_delimiter: \n",
      "  treat_whitespace_as_suffix: 0\n",
      "  allow_whitespace_only_pieces: 0\n",
      "  required_chars: \n",
      "  byte_fallback: 0\n",
      "  vocabulary_output_piece_score: 1\n",
      "  train_extremely_large_corpus: 0\n",
      "  hard_vocab_limit: 1\n",
      "  use_all_vocab: 0\n",
      "  unk_id: 0\n",
      "  bos_id: 1\n",
      "  eos_id: 2\n",
      "  pad_id: -1\n",
      "  unk_piece: <unk>\n",
      "  bos_piece: <s>\n",
      "  eos_piece: </s>\n",
      "  pad_piece: <pad>\n",
      "  unk_surface:  ⁇ \n",
      "  enable_differential_privacy: 0\n",
      "  differential_privacy_noise_level: 0\n",
      "  differential_privacy_clipping_threshold: 0\n",
      "}\n",
      "normalizer_spec {\n",
      "  name: nmt_nfkc\n",
      "  add_dummy_prefix: 1\n",
      "  remove_extra_whitespaces: 1\n",
      "  escape_whitespaces: 1\n",
      "  normalization_rule_tsv: \n",
      "}\n",
      "denormalizer_spec {}\n",
      "trainer_interface.cc(351) LOG(INFO) SentenceIterator is not specified. Using MultiFileSentenceIterator.\n",
      "trainer_interface.cc(183) LOG(INFO) Loading corpus: naver_review.txt\n",
      "trainer_interface.cc(407) LOG(INFO) Loaded all 199992 sentences\n",
      "trainer_interface.cc(423) LOG(INFO) Adding meta_piece: <unk>\n",
      "trainer_interface.cc(423) LOG(INFO) Adding meta_piece: <s>\n",
      "trainer_interface.cc(423) LOG(INFO) Adding meta_piece: </s>\n",
      "trainer_interface.cc(428) LOG(INFO) Normalizing sentences...\n",
      "trainer_interface.cc(537) LOG(INFO) all chars count=7242982\n",
      "trainer_interface.cc(548) LOG(INFO) Done: 99.9501% characters are covered.\n",
      "trainer_interface.cc(558) LOG(INFO) Alphabet size=1725\n",
      "trainer_interface.cc(559) LOG(INFO) Final character coverage=0.999501\n",
      "trainer_interface.cc(591) LOG(INFO) Done! preprocessed 199992 sentences.\n",
      "trainer_interface.cc(597) LOG(INFO) Tokenizing input sentences with whitespace: 199992\n",
      "trainer_interface.cc(608) LOG(INFO) Done! 449380\n",
      "bpe_model_trainer.cc(171) LOG(INFO) Updating active symbols. max_freq=97156 min_freq=100\n",
      "bpe_model_trainer.cc(280) LOG(INFO) Added: freq=14530 size=20 all=124350 active=11716 piece=▁어\n",
      "bpe_model_trainer.cc(280) LOG(INFO) Added: freq=11891 size=40 all=129291 active=16657 piece=▁정말\n",
      "bpe_model_trainer.cc(280) LOG(INFO) Added: freq=8425 size=60 all=133223 active=20589 piece=▁생\n",
      "bpe_model_trainer.cc(280) LOG(INFO) Added: freq=7007 size=80 all=137615 active=24981 piece=드라마\n",
      "bpe_model_trainer.cc(280) LOG(INFO) Added: freq=5651 size=100 all=141801 active=29167 piece=▁보고\n",
      "bpe_model_trainer.cc(171) LOG(INFO) Updating active symbols. max_freq=5550 min_freq=84\n",
      "bpe_model_trainer.cc(280) LOG(INFO) Added: freq=4812 size=120 all=145061 active=10278 piece=▁아니\n",
      "bpe_model_trainer.cc(280) LOG(INFO) Added: freq=4300 size=140 all=147975 active=13192 piece=적인\n",
      "bpe_model_trainer.cc(280) LOG(INFO) Added: freq=3782 size=160 all=150511 active=15728 piece=^^\n",
      "bpe_model_trainer.cc(280) LOG(INFO) Added: freq=3533 size=180 all=153309 active=18526 piece=▁처\n",
      "bpe_model_trainer.cc(280) LOG(INFO) Added: freq=3192 size=200 all=155983 active=21200 piece=지는\n",
      "bpe_model_trainer.cc(171) LOG(INFO) Updating active symbols. max_freq=3188 min_freq=75\n",
      "bpe_model_trainer.cc(280) LOG(INFO) Added: freq=2945 size=220 all=158894 active=10451 piece=▁처음\n",
      "bpe_model_trainer.cc(280) LOG(INFO) Added: freq=2751 size=240 all=162106 active=13663 piece=인데\n",
      "bpe_model_trainer.cc(280) LOG(INFO) Added: freq=2568 size=260 all=165346 active=16903 piece=▁이해\n",
      "bpe_model_trainer.cc(280) LOG(INFO) Added: freq=2400 size=280 all=168526 active=20083 piece=▁화\n",
      "bpe_model_trainer.cc(280) LOG(INFO) Added: freq=2251 size=300 all=170105 active=21662 piece=▁당\n",
      "bpe_model_trainer.cc(171) LOG(INFO) Updating active symbols. max_freq=2249 min_freq=67\n",
      "bpe_model_trainer.cc(280) LOG(INFO) Added: freq=2077 size=320 all=172594 active=10936 piece=▁발\n",
      "bpe_model_trainer.cc(280) LOG(INFO) Added: freq=1941 size=340 all=175086 active=13427 piece=것도\n",
      "bpe_model_trainer.cc(280) LOG(INFO) Added: freq=1856 size=360 all=177592 active=15933 piece=▁무슨\n",
      "bpe_model_trainer.cc(280) LOG(INFO) Added: freq=1756 size=380 all=180112 active=18453 piece=▁아깝다\n",
      "bpe_model_trainer.cc(280) LOG(INFO) Added: freq=1681 size=400 all=182287 active=20628 piece=▁리\n",
      "bpe_model_trainer.cc(171) LOG(INFO) Updating active symbols. max_freq=1680 min_freq=61\n",
      "bpe_model_trainer.cc(280) LOG(INFO) Added: freq=1629 size=420 all=184125 active=10856 piece=▁스릴\n",
      "bpe_model_trainer.cc(280) LOG(INFO) Added: freq=1560 size=440 all=186115 active=12846 piece=재밌\n",
      "bpe_model_trainer.cc(280) LOG(INFO) Added: freq=1484 size=460 all=188669 active=15400 piece=▁극장\n",
      "bpe_model_trainer.cc(280) LOG(INFO) Added: freq=1430 size=480 all=190370 active=17101 piece=처럼\n",
      "bpe_model_trainer.cc(280) LOG(INFO) Added: freq=1367 size=500 all=192611 active=19342 piece=▁근\n",
      "bpe_model_trainer.cc(171) LOG(INFO) Updating active symbols. max_freq=1361 min_freq=57\n",
      "bpe_model_trainer.cc(280) LOG(INFO) Added: freq=1313 size=520 all=194423 active=11407 piece=떨어\n",
      "bpe_model_trainer.cc(280) LOG(INFO) Added: freq=1249 size=540 all=196184 active=13168 piece=▁캐릭터\n",
      "bpe_model_trainer.cc(280) LOG(INFO) Added: freq=1202 size=560 all=198174 active=15158 piece=▁독\n",
      "bpe_model_trainer.cc(280) LOG(INFO) Added: freq=1174 size=580 all=200928 active=17912 piece=이랑\n",
      "bpe_model_trainer.cc(280) LOG(INFO) Added: freq=1142 size=600 all=203283 active=20267 piece=▁영화에\n",
      "bpe_model_trainer.cc(171) LOG(INFO) Updating active symbols. max_freq=1141 min_freq=53\n",
      "bpe_model_trainer.cc(280) LOG(INFO) Added: freq=1113 size=620 all=205465 active=123"
     ]
    }
   ],
   "source": [
    "spm.SentencePieceTrainer.Train('--input=naver_review.txt --model_prefix=naver --vocab_size=5000 --model_type=bpe --max_sentence_length=9999')"
   ]
  },
  {
   "cell_type": "code",
   "execution_count": 9,
   "metadata": {},
   "outputs": [
    {
     "name": "stdout",
     "output_type": "stream",
     "text": [
      "       0  1\n",
      "0  <unk>  0\n",
      "1    <s>  0\n",
      "2   </s>  0\n",
      "3     ..  0\n",
      "4     영화 -1\n",
      "        0     1\n",
      "3098  감독이 -3095\n",
      "3822    틀 -3819\n",
      "3637    왔 -3634\n"
     ]
    }
   ],
   "source": [
    "vocab_list = pd.read_csv('naver.vocab', sep='\\t', header=None, quoting=csv.QUOTE_NONE)\n",
    "print(vocab_list[:5])\n",
    "print(vocab_list.sample(3))"
   ]
  },
  {
   "cell_type": "code",
   "execution_count": 10,
   "metadata": {},
   "outputs": [
    {
     "data": {
      "text/plain": [
       "True"
      ]
     },
     "execution_count": 10,
     "metadata": {},
     "output_type": "execute_result"
    }
   ],
   "source": [
    "sp = spm.SentencePieceProcessor()\n",
    "vocab_file = \"naver.model\"\n",
    "sp.load(vocab_file)"
   ]
  },
  {
   "cell_type": "code",
   "execution_count": 11,
   "metadata": {},
   "outputs": [
    {
     "name": "stdout",
     "output_type": "stream",
     "text": [
      "뭐 이딴 것도 영화냐.\n",
      "['▁뭐', '▁이딴', '▁것도', '▁영화냐', '.']\n",
      "[132, 966, 1296, 2590, 3276]\n",
      "\n",
      "진짜 최고의 영화입니다 ㅋㅋ\n",
      "['▁진짜', '▁최고의', '▁영화입니다', '▁ᄏᄏ']\n",
      "[54, 200, 821, 85]\n",
      "\n"
     ]
    }
   ],
   "source": [
    "lines = [\"뭐 이딴 것도 영화냐.\", \"진짜 최고의 영화입니다 ㅋㅋ\",]\n",
    "for line in lines:\n",
    "  print(line)\n",
    "  print(sp.encode_as_pieces(line))\n",
    "  print(sp.encode_as_ids(line))\n",
    "  print()"
   ]
  },
  {
   "cell_type": "code",
   "execution_count": 12,
   "metadata": {},
   "outputs": [
    {
     "data": {
      "text/plain": [
       "('ratings.txt', <http.client.HTTPMessage at 0x7f9a9856d4c0>)"
      ]
     },
     "execution_count": 12,
     "metadata": {},
     "output_type": "execute_result"
    }
   ],
   "source": [
    "import pandas as pd\n",
    "import urllib.request\n",
    "from tokenizers import BertWordPieceTokenizer\n",
    "\n",
    "urllib.request.urlretrieve(\"https://raw.githubusercontent.com/e9t/nsmc/master/ratings.txt\", filename=\"ratings.txt\")"
   ]
  },
  {
   "cell_type": "code",
   "execution_count": 13,
   "metadata": {},
   "outputs": [],
   "source": [
    "naver_df = pd.read_table('ratings.txt')\n",
    "naver_df = naver_df.dropna(how='any')\n",
    "with open('naver_review.txt', 'w', encoding='utf8') as f:\n",
    "    f.write('\\n'.join(naver_df['document']))"
   ]
  },
  {
   "cell_type": "code",
   "execution_count": 15,
   "metadata": {},
   "outputs": [],
   "source": [
    "tokenizer = BertWordPieceTokenizer(lowercase=False, strip_accents=False)"
   ]
  },
  {
   "cell_type": "code",
   "execution_count": 16,
   "metadata": {},
   "outputs": [
    {
     "name": "stdout",
     "output_type": "stream",
     "text": [
      "\n",
      "\n",
      "\n"
     ]
    }
   ],
   "source": [
    "data_file = 'naver_review.txt'\n",
    "vocab_size = 30000\n",
    "limit_alphabet = 6000\n",
    "min_frequency = 5\n",
    "\n",
    "tokenizer.train(\n",
    "    files=data_file, vocab_size=vocab_size, \n",
    "    limit_alphabet=limit_alphabet, # 병합 전의 초기 토큰의 허용 개수\n",
    "    min_frequency=min_frequency)"
   ]
  },
  {
   "cell_type": "code",
   "execution_count": 17,
   "metadata": {},
   "outputs": [
    {
     "data": {
      "text/plain": [
       "['./vocab.txt']"
      ]
     },
     "execution_count": 17,
     "metadata": {},
     "output_type": "execute_result"
    }
   ],
   "source": [
    "tokenizer.save_model('./')"
   ]
  },
  {
   "cell_type": "code",
   "execution_count": 18,
   "metadata": {},
   "outputs": [
    {
     "data": {
      "text/html": [
       "<div>\n",
       "<style scoped>\n",
       "    .dataframe tbody tr th:only-of-type {\n",
       "        vertical-align: middle;\n",
       "    }\n",
       "\n",
       "    .dataframe tbody tr th {\n",
       "        vertical-align: top;\n",
       "    }\n",
       "\n",
       "    .dataframe thead th {\n",
       "        text-align: right;\n",
       "    }\n",
       "</style>\n",
       "<table border=\"1\" class=\"dataframe\">\n",
       "  <thead>\n",
       "    <tr style=\"text-align: right;\">\n",
       "      <th></th>\n",
       "      <th>0</th>\n",
       "    </tr>\n",
       "  </thead>\n",
       "  <tbody>\n",
       "    <tr>\n",
       "      <th>0</th>\n",
       "      <td>[PAD]</td>\n",
       "    </tr>\n",
       "    <tr>\n",
       "      <th>1</th>\n",
       "      <td>[UNK]</td>\n",
       "    </tr>\n",
       "    <tr>\n",
       "      <th>2</th>\n",
       "      <td>[CLS]</td>\n",
       "    </tr>\n",
       "    <tr>\n",
       "      <th>3</th>\n",
       "      <td>[SEP]</td>\n",
       "    </tr>\n",
       "    <tr>\n",
       "      <th>4</th>\n",
       "      <td>[MASK]</td>\n",
       "    </tr>\n",
       "    <tr>\n",
       "      <th>...</th>\n",
       "      <td>...</td>\n",
       "    </tr>\n",
       "    <tr>\n",
       "      <th>29995</th>\n",
       "      <td>말라는</td>\n",
       "    </tr>\n",
       "    <tr>\n",
       "      <th>29996</th>\n",
       "      <td>말밖에는</td>\n",
       "    </tr>\n",
       "    <tr>\n",
       "      <th>29997</th>\n",
       "      <td>맘을</td>\n",
       "    </tr>\n",
       "    <tr>\n",
       "      <th>29998</th>\n",
       "      <td>맛도</td>\n",
       "    </tr>\n",
       "    <tr>\n",
       "      <th>29999</th>\n",
       "      <td>망하지</td>\n",
       "    </tr>\n",
       "  </tbody>\n",
       "</table>\n",
       "<p>30000 rows × 1 columns</p>\n",
       "</div>"
      ],
      "text/plain": [
       "            0\n",
       "0       [PAD]\n",
       "1       [UNK]\n",
       "2       [CLS]\n",
       "3       [SEP]\n",
       "4      [MASK]\n",
       "...       ...\n",
       "29995     말라는\n",
       "29996    말밖에는\n",
       "29997      맘을\n",
       "29998      맛도\n",
       "29999     망하지\n",
       "\n",
       "[30000 rows x 1 columns]"
      ]
     },
     "execution_count": 18,
     "metadata": {},
     "output_type": "execute_result"
    }
   ],
   "source": [
    "df = pd.read_fwf('vocab.txt', header=None)\n",
    "df"
   ]
  },
  {
   "cell_type": "code",
   "execution_count": 20,
   "metadata": {},
   "outputs": [
    {
     "name": "stdout",
     "output_type": "stream",
     "text": [
      "tokenizer result:['일', '##정한', '간', '##격', '고정', '##된', '구조', '##의', '외', '##부', '##데이', '##터', '불러', '##오', '##기']\n",
      "encode : [2344, 11323, 568, 3618, 15453, 3409, 12266, 3251, 2252, 3249, 9920, 3549, 8625, 3427, 3447]\n",
      "decoding : 일정한 간격 고정된 구조의 외부데이터 불러오기\n",
      "tokenizer result:['커피', '한잔', '##의', '여유', '##를', '즐기', '##다']\n",
      "encode : [12825, 25644, 3251, 12696, 3239, 10784, 3290]\n",
      "decoding : 커피 한잔의 여유를 즐기다\n"
     ]
    }
   ],
   "source": [
    "encoded = tokenizer.encode('일정한 간격 고정된 구조의 외부데이터 불러오기')\n",
    "print(f'tokenizer result:{encoded.tokens}')\n",
    "print(f'encode : {encoded.ids}')\n",
    "print(f'decoding : {tokenizer.decode(encoded.ids)}')\n",
    "\n",
    "encoded = tokenizer.encode('커피 한잔의 여유를 즐기다')\n",
    "print(f'tokenizer result:{encoded.tokens}')\n",
    "print(f'encode : {encoded.ids}')\n",
    "print(f'decoding : {tokenizer.decode(encoded.ids)}')"
   ]
  },
  {
   "cell_type": "code",
   "execution_count": 21,
   "metadata": {},
   "outputs": [
    {
     "name": "stdout",
     "output_type": "stream",
     "text": [
      "\n",
      "\n",
      "\n",
      "['▁이', '▁영화는', '▁정말', '▁재미있', '습니다.']\n"
     ]
    }
   ],
   "source": [
    "from tokenizers import ByteLevelBPETokenizer, CharBPETokenizer, SentencePieceBPETokenizer\n",
    "\n",
    "tokenizer = SentencePieceBPETokenizer()\n",
    "tokenizer.train('naver_review.txt', vocab_size=10000, min_frequency=5)\n",
    "\n",
    "encoded = tokenizer.encode('이 영화는 정말 재미있습니다.')\n",
    "print(encoded.tokens)"
   ]
  }
 ],
 "metadata": {
  "kernelspec": {
   "display_name": "Python 3.8.10 64-bit",
   "language": "python",
   "name": "python3"
  },
  "language_info": {
   "codemirror_mode": {
    "name": "ipython",
    "version": 3
   },
   "file_extension": ".py",
   "mimetype": "text/x-python",
   "name": "python",
   "nbconvert_exporter": "python",
   "pygments_lexer": "ipython3",
   "version": "3.8.10"
  },
  "orig_nbformat": 4,
  "vscode": {
   "interpreter": {
    "hash": "31f2aee4e71d21fbe5cf8b01ff0e069b9275f58929596ceb00d14d90e3e16cd6"
   }
  }
 },
 "nbformat": 4,
 "nbformat_minor": 2
}
