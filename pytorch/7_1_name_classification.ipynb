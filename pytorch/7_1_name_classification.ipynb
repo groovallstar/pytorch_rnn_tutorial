{
 "cells": [
  {
   "cell_type": "code",
   "execution_count": 1,
   "metadata": {},
   "outputs": [],
   "source": [
    "import torch\n",
    "torch.backends.cudnn.benchmark = True\n",
    "dev = torch.device(\n",
    "    \"cuda\") if torch.cuda.is_available() else torch.device(\"cpu\")"
   ]
  },
  {
   "cell_type": "code",
   "execution_count": 2,
   "metadata": {},
   "outputs": [],
   "source": [
    "import os\n",
    "import glob\n",
    "import string\n",
    "\n",
    "from io import open\n",
    "\n",
    "def find_files(path):\n",
    "    return glob.glob(path) # 파일 리스트\n",
    "\n",
    "# 각 언어의 이름 목록인 category_lines 사전 생성\n",
    "category_lines = {}\n",
    "all_categories = []\n",
    "\n",
    "all_letters = string.ascii_letters + \".,;'\" \n",
    "n_letters = len(all_letters)  # 모든 문자+ .,; 개수 : 56개\n",
    "\n",
    "# 유니코드 문자열을 ASCII로 변환. https://stackoverflow.com/a/518232/2809427\n",
    "def unicode_to_ascii(s):\n",
    "    \"\"\"유니코드 -> ASCII 변환\"\"\"\n",
    "    import unicodedata\n",
    "    return ''.join(\n",
    "        c for c in unicodedata.normalize('NFD', s) \n",
    "        if unicodedata.category(c) != 'Mn' and c in all_letters)\n",
    "    \n",
    "def read_lines(filename):\n",
    "    lines = open(filename, encoding='utf-8').read().strip().split('\\n')\n",
    "    return [unicode_to_ascii(line) for line in lines]\n",
    "\n",
    "# 해당 폴더에서 파일 리스팅 (이름:언어명)\n",
    "for filename in find_files('data/names/*.txt'):\n",
    "    category = os.path.splitext(os.path.basename(filename))[0]\n",
    "    all_categories.append(category)\n",
    "    lines = read_lines(filename)\n",
    "    category_lines[category] = lines\n",
    "\n",
    "n_categories = len(all_categories)"
   ]
  },
  {
   "cell_type": "code",
   "execution_count": 3,
   "metadata": {},
   "outputs": [
    {
     "name": "stdout",
     "output_type": "stream",
     "text": [
      "모든 문자(all_letters)=(abcdefghijklmnopqrstuvwxyzABCDEFGHIJKLMNOPQRSTUVWXYZ.,;'), 개수(n_letters)=56\n",
      "유니코드 -> 아스키 코드로 변환(unicode_to_ascii)=(Slusarski)\n",
      "언어명 list[0](all_categories[0])=Italian\n",
      "성씨 dict[언어명[0]][0](category_lines[all_categories[0]][:5])={category_lines[all_categories[0]][:5]}\n",
      "전체 언어 개수(n_categories)=18\n"
     ]
    }
   ],
   "source": [
    "print(f'모든 문자(all_letters)=({all_letters}), 개수(n_letters)={n_letters}')\n",
    "print(f\"유니코드 -> 아스키 코드로 변환(unicode_to_ascii)=({unicode_to_ascii('Ślusàrski')})\")\n",
    "\n",
    "print(f'언어명 list[0](all_categories[0])={all_categories[0]}')\n",
    "print(f'성씨 dict[언어명[0]][0](category_lines[all_categories[0]][:5])='\n",
    "      '{category_lines[all_categories[0]][:5]}') # 언어마다 성씨 목록 dict\n",
    "print(f'전체 언어 개수(n_categories)={n_categories}')"
   ]
  },
  {
   "cell_type": "code",
   "execution_count": 4,
   "metadata": {},
   "outputs": [
    {
     "name": "stdout",
     "output_type": "stream",
     "text": [
      "'A'문자의 인덱스(letter_to_index('A'))=(26)\n",
      "'J'문자 -> 텐서로 변경(letter_to_tensor('J'))=tensor([[0., 0., 0., 0., 0., 0., 0., 0., 0., 0., 0., 0., 0., 0., 0., 0., 0., 0.,\n",
      "         0., 0., 0., 0., 0., 0., 0., 0., 0., 0., 0., 0., 0., 0., 0., 0., 0., 1.,\n",
      "         0., 0., 0., 0., 0., 0., 0., 0., 0., 0., 0., 0., 0., 0., 0., 0., 0., 0.,\n",
      "         0., 0.]])\n",
      "크기=torch.Size([1, 56])\n",
      "'Jones' 문자열 -> 텐서로 변경 크기(line_to_tensor('Jones').size())=torch.Size([5, 1, 56])\n"
     ]
    }
   ],
   "source": [
    "# 이름을 텐서로 변경.\n",
    "# 하나의 문자는 크기가 (1 x n_letters) 인 one-hot vector 사용\n",
    "# b = [0, 1, 0, 0, ...] -> n_letters 길이 크기\n",
    "# 단어를 만들면 2차원 one-hot vector (line_length x 1 x n_letters)\n",
    "# 추가적인 1차원은 배치 크기.\n",
    "\n",
    "# all_letters 로 문자의 인덱스 리턴, 예시 \"a\" = 0\n",
    "def letter_to_index(letter):\n",
    "    return all_letters.find(letter)\n",
    "\n",
    "# n_letters = 56\n",
    "# 검증을 위해서 한개의 문자를 <1 x n_letters> Tensor로 변환\n",
    "def letter_to_tensor(letter):\n",
    "    tensor = torch.zeros(1, n_letters)\n",
    "    tensor[0][letter_to_index(letter)] = 1\n",
    "    return tensor\n",
    "\n",
    "# 한 줄(이름)을  <line_length x 1 x n_letters>,\n",
    "# 또는 One-Hot 문자 벡터의 Array로 변경\n",
    "def line_to_tensor(line):\n",
    "    # ([5, 1, 56]) => 문장 길이:'5', 1, 단어 벡터의 차원:'56'\n",
    "    tensor = torch.zeros(len(line), 1, n_letters)\n",
    "    for ch_index, letter in enumerate(line):\n",
    "        tensor[ch_index][0][letter_to_index(letter)] = 1\n",
    "    return tensor\n",
    "\n",
    "print(f\"'A'문자의 인덱스(letter_to_index('A'))=({letter_to_index('A')})\")\n",
    "print(f\"'J'문자 -> 텐서로 변경(letter_to_tensor('J'))={letter_to_tensor('J')}\")\n",
    "print(f\"크기={letter_to_tensor('J').size()}\")\n",
    "print(f\"'Jones' 문자열 -> 텐서로 변경 크기(line_to_tensor('Jones').size())=\"\n",
    "      f\"{line_to_tensor('Jones').size()}\")"
   ]
  },
  {
   "cell_type": "code",
   "execution_count": 5,
   "metadata": {},
   "outputs": [],
   "source": [
    "import torch.nn as nn\n",
    "\n",
    "class RNN(nn.Module):\n",
    "    def __init__(self, input_size, hidden_size, output_size):\n",
    "        super(RNN, self).__init__()\n",
    "\n",
    "        self.hidden_size = hidden_size\n",
    "\n",
    "        self.i2h = nn.Linear(input_size + hidden_size, hidden_size)\n",
    "        self.i2o = nn.Linear(input_size + hidden_size, output_size)\n",
    "        self.softmax = nn.LogSoftmax(dim=1)\n",
    "\n",
    "    def forward(self, input, hidden):\n",
    "        combined = torch.cat((input, hidden), 1) # (1, 184)\n",
    "        hidden = self.i2h(combined)\n",
    "        output = self.i2o(combined)\n",
    "        output = self.softmax(output)\n",
    "        return output, hidden\n",
    "\n",
    "    def initHidden(self):\n",
    "        return torch.zeros(1, self.hidden_size)"
   ]
  },
  {
   "cell_type": "code",
   "execution_count": 6,
   "metadata": {},
   "outputs": [
    {
     "name": "stdout",
     "output_type": "stream",
     "text": [
      "torch.Size([1, 18]) torch.Size([1, 128])\n"
     ]
    }
   ],
   "source": [
    "# 이 네트워크의 한 단계를 실행하려면 입력(현재 문자 Tensor)과 \n",
    "# 이전의 은닉 상태 (처음에는 0으로 초기화)를 전달해야 함.\n",
    "# 출력(각 언어의 확률)과 다음 은닉 상태 (다음 단계를 위해 유지)를 돌려 받음.\n",
    "\n",
    "n_hidden = 128\n",
    "\n",
    "# n_letters = 56\n",
    "# n_categories = 18\n",
    "rnn = RNN(n_letters, n_hidden, n_categories)\n",
    "\n",
    "input = letter_to_tensor('A') # (1, 56)\n",
    "hidden = torch.zeros(1, n_hidden) # (1, 128)\n",
    "output, next_hidden = rnn(input, hidden)\n",
    "# output size 는 RNN output size 로 리턴됨\n",
    "print(output.shape, next_hidden.shape)"
   ]
  },
  {
   "cell_type": "code",
   "execution_count": 7,
   "metadata": {},
   "outputs": [
    {
     "name": "stdout",
     "output_type": "stream",
     "text": [
      "torch.Size([1, 56])\n",
      "torch.Size([1, 18]) torch.Size([1, 128])\n"
     ]
    }
   ],
   "source": [
    "# 효율성을 위해서 매 단계마다 새로운 Tensor를 만들지 않고 lineToTensor 를 잘라서 사용\n",
    "# Tensor의 사전 연산(pre-computing) 배치에 의해 더욱 최적화 될 수 있음\n",
    "\n",
    "n_hidden = 128\n",
    "rnn = RNN(n_letters, n_hidden, n_categories)\n",
    "\n",
    "input = line_to_tensor('Albert') # torch.Size([6, 1, 56])\n",
    "hidden = torch.zeros(1, n_hidden)\n",
    "print(input[0].shape)\n",
    "output, next_hidden = rnn(input[0], hidden)\n",
    "print(output.shape, next_hidden.shape) # (1 x n_categories)"
   ]
  },
  {
   "cell_type": "code",
   "execution_count": 8,
   "metadata": {},
   "outputs": [
    {
     "name": "stdout",
     "output_type": "stream",
     "text": [
      "('Chinese', 4)\n"
     ]
    }
   ],
   "source": [
    "# 학습으로 들어가기 전에 도움되는 함수를 만들 때\n",
    "# 첫째는 우리가 알아낸 각 카테고리의 우도인 네트워크 출력을 해석하는 것.\n",
    "# 가장 큰 값의 주소를 알기 위해서 Tensor.topk 를 사용 할 수 있음\n",
    "# 역자 주: 네트워크 출력(각 카테고리의 우도)으로 \n",
    "# 가장 확률이 높은 카테고리 이름(언어)과 카테고리 번호 반환\n",
    "\n",
    "def category_from_output(output):\n",
    "    top_n, top_i = output.topk(1) # 값, 인덱스\n",
    "    category_i = top_i[0].item() # 텐서 값에서 정수 값만 가져오기\n",
    "    return all_categories[category_i], category_i\n",
    "\n",
    "print(category_from_output(output))"
   ]
  },
  {
   "cell_type": "code",
   "execution_count": 9,
   "metadata": {},
   "outputs": [
    {
     "name": "stdout",
     "output_type": "stream",
     "text": [
      "category = Vietnamese / line = Phung\n",
      "category = Italian / line = Pesaresi\n",
      "category = English / line = Frey\n",
      "category = Chinese / line = Pan\n",
      "category = Scottish / line = Hughes\n",
      "category = Russian / line = Jivoluk\n",
      "category = Vietnamese / line = Giang\n",
      "category = Dutch / line = Schoonraad\n",
      "category = Greek / line = Paitakes\n",
      "category = Italian / line = Arrighetti\n"
     ]
    }
   ],
   "source": [
    "import random\n",
    "\n",
    "def random_choice(l):\n",
    "    return l[random.randint(0, len(l) - 1)]\n",
    "\n",
    "def random_training_example():\n",
    "    # all_categories=18\n",
    "    category = random_choice(all_categories) # 언어\n",
    "    line = random_choice(category_lines[category]) # 언어 중 특정 성씨\n",
    "    category_tensor = torch.tensor(\n",
    "        [all_categories.index(category)], dtype=torch.long)\n",
    "    line_tensor = line_to_tensor(line)\n",
    "    return category, line, category_tensor, line_tensor\n",
    "\n",
    "for i in range(10):\n",
    "    category, line, category_tensor, line_tensor = random_training_example()\n",
    "    print('category =', category, '/ line =', line)"
   ]
  },
  {
   "cell_type": "code",
   "execution_count": 10,
   "metadata": {},
   "outputs": [],
   "source": [
    "learning_rate = 0.005\n",
    "criterion = nn.NLLLoss()\n",
    "\n",
    "n_hidden = 128\n",
    "rnn = RNN(n_letters, n_hidden, n_categories).to(dev)\n",
    "\n",
    "def train(category_tensor, line_tensor):\n",
    "    category_tensor = category_tensor.to(dev)\n",
    "    line_tensor = line_tensor.to(dev)\n",
    "\n",
    "    hidden = rnn.initHidden().to(dev)\n",
    "\n",
    "    rnn.zero_grad()\n",
    "    \n",
    "    for i in range(line_tensor.size()[0]):\n",
    "        output, hidden = rnn(line_tensor[i], hidden)\n",
    "    loss = criterion(output, category_tensor)\n",
    "    loss.backward()\n",
    "    \n",
    "    # 매개변수의 경사도에 학습률을 곱해서 그 매개변수의 값에 더함\n",
    "    for p in rnn.parameters():\n",
    "        p.data.add_(p.grad.data, alpha=-learning_rate)\n",
    "    \n",
    "    return output, loss.item()"
   ]
  },
  {
   "cell_type": "code",
   "execution_count": 11,
   "metadata": {},
   "outputs": [
    {
     "name": "stdout",
     "output_type": "stream",
     "text": [
      "5000 5.0% (0m 21s) 2.6175 Ziemniak / Russian x (Polish))\n",
      "10000 10.0% (0m 42s) 2.8889 Mata / Japanese x (Spanish))\n",
      "15000 15.0% (1m 2s) 1.5443 Williamson / Scottish v)\n",
      "20000 20.0% (1m 23s) 1.1044 Kruger / German v)\n",
      "25000 25.0% (1m 42s) 2.3476 D'aramitz / Italian x (French))\n",
      "30000 30.0% (2m 2s) 1.4803 Robertson / Scottish x (English))\n",
      "35000 35.0% (2m 23s) 2.1122 Ton / Korean x (Vietnamese))\n",
      "40000 40.0% (2m 42s) 0.9074 Perrot / French v)\n",
      "45000 45.0% (3m 3s) 0.1196 Dinh / Vietnamese v)\n",
      "50000 50.0% (3m 24s) 2.2039 Denzel / Polish x (German))\n",
      "55000 55.00000000000001% (3m 45s) 0.6493 Feng / Chinese v)\n",
      "60000 60.0% (4m 6s) 2.3483 Delbosque / French x (Spanish))\n",
      "65000 65.0% (4m 26s) 2.2947 Notman / Arabic x (English))\n",
      "70000 70.0% (4m 47s) 0.5569 Iida / Japanese v)\n",
      "75000 75.0% (5m 9s) 0.4049 Macleod / Scottish v)\n",
      "80000 80.0% (5m 28s) 1.6304 Zhitny / English x (Russian))\n",
      "85000 85.0% (5m 48s) 1.7867 Han / Chinese x (Korean))\n",
      "90000 90.0% (6m 7s) 1.4999 Machado / Japanese x (Portuguese))\n",
      "95000 95.0% (6m 28s) 0.0166 Likhanov / Russian v)\n",
      "100000 100.0% (6m 49s) 3.4311 Nifterick / Czech x (Dutch))\n"
     ]
    }
   ],
   "source": [
    "import time\n",
    "import math\n",
    "\n",
    "n_iters = 100000\n",
    "print_every = 5000\n",
    "plot_every = 1000\n",
    "\n",
    "current_loss = 0\n",
    "all_losses = []\n",
    "\n",
    "def timeSince(since):\n",
    "    now = time.time()\n",
    "    s = now - since\n",
    "    m = math.floor(s / 60)\n",
    "    s -= m * 60\n",
    "    return '%dm %ds' % (m, s)\n",
    "\n",
    "start = time.time()\n",
    "\n",
    "for iter in range(1, n_iters + 1):\n",
    "    category, line, category_tensor, line_tensor = random_training_example()\n",
    "    output, loss = train(category_tensor, line_tensor) \n",
    "    current_loss += loss\n",
    "\n",
    "    # iter 숫자, 손실, 이름, 추측 화면 출력\n",
    "    if iter % print_every == 0:\n",
    "        guess, guess_i = category_from_output(output)\n",
    "        correct = 'v' if guess == category else 'x (%s)' % category\n",
    "        print(f'{iter} {iter / n_iters * 100}% ({timeSince(start)}) '\\\n",
    "              f'{loss:.4f} {line} / {guess} {correct})')\n",
    "\n",
    "    # 현재 평균 손실을 전체 손실 리스트에 추가\n",
    "    if iter % plot_every == 0:\n",
    "        all_losses.append(current_loss / plot_every)\n",
    "        current_loss = 0"
   ]
  },
  {
   "cell_type": "code",
   "execution_count": 12,
   "metadata": {},
   "outputs": [
    {
     "data": {
      "text/plain": [
       "[<matplotlib.lines.Line2D at 0x7ff6b4b945e0>]"
      ]
     },
     "execution_count": 12,
     "metadata": {},
     "output_type": "execute_result"
    },
    {
     "data": {
      "image/png": "[encoded data removed]",
      "text/plain": [
       "<Figure size 640x480 with 1 Axes>"
      ]
     },
     "metadata": {},
     "output_type": "display_data"
    }
   ],
   "source": [
    "import matplotlib.pyplot as plt\n",
    "import matplotlib.ticker as ticker\n",
    "\n",
    "plt.figure()\n",
    "plt.plot(all_losses)"
   ]
  },
  {
   "cell_type": "code",
   "execution_count": 13,
   "metadata": {},
   "outputs": [
    {
     "name": "stdout",
     "output_type": "stream",
     "text": [
      "\n",
      "> Dovesky\n",
      "(-0.58) Czech\n",
      "(-1.04) Russian\n",
      "(-2.82) English\n",
      "\n",
      "> Jackson\n",
      "(-1.05) English\n",
      "(-1.36) Russian\n",
      "(-2.15) Scottish\n",
      "\n",
      "> Satoshi\n",
      "(-1.02) Japanese\n",
      "(-1.02) Italian\n",
      "(-2.65) Arabic\n"
     ]
    }
   ],
   "source": [
    "# 주어진 라인의 출력 반환\n",
    "def evaluate(line_tensor):\n",
    "    hidden = rnn.initHidden().to(dev)\n",
    "    \n",
    "    line_tensor = line_tensor.to(dev)    \n",
    "    for i in range(line_tensor.size()[0]):\n",
    "        output, hidden = rnn(line_tensor[i], hidden)\n",
    "\n",
    "    return output\n",
    "\n",
    "def predict(input_line, n_predictions=3):\n",
    "    print('\\n> %s' % input_line)\n",
    "    with torch.no_grad():\n",
    "        output = evaluate(line_to_tensor(input_line))\n",
    "\n",
    "        # Get top N categories\n",
    "        topv, topi = output.topk(n_predictions, 1, True)\n",
    "        predictions = []\n",
    "\n",
    "        for i in range(n_predictions):\n",
    "            value = topv[0][i].item()\n",
    "            category_index = topi[0][i].item()\n",
    "            print('(%.2f) %s' % (value, all_categories[category_index]))\n",
    "            predictions.append([value, all_categories[category_index]])\n",
    "\n",
    "predict('Dovesky')\n",
    "predict('Jackson')\n",
    "predict('Satoshi')"
   ]
  }
 ],
 "metadata": {
  "kernelspec": {
   "display_name": "base",
   "language": "python",
   "name": "python3"
  },
  "language_info": {
   "codemirror_mode": {
    "name": "ipython",
    "version": 3
   },
   "file_extension": ".py",
   "mimetype": "text/x-python",
   "name": "python",
   "nbconvert_exporter": "python",
   "pygments_lexer": "ipython3",
   "version": "3.9.12 (main, Apr  5 2022, 06:56:58) \n[GCC 7.5.0]"
  },
  "vscode": {
   "interpreter": {
    "hash": "d4d1e4263499bec80672ea0156c357c1ee493ec2b1c70f0acce89fc37c4a6abe"
   }
  }
 },
 "nbformat": 4,
 "nbformat_minor": 4
}
