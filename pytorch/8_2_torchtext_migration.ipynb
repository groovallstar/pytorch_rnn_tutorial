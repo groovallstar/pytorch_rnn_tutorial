{
 "cells": [
  {
   "cell_type": "code",
   "execution_count": 4,
   "metadata": {},
   "outputs": [],
   "source": [
    "# 모델\n",
    "import torch.nn as nn\n",
    "class GRU(nn.Module):\n",
    "    def __init__(\n",
    "        self, n_layers, hidden_dim, n_vocab, \n",
    "        embed_dim, n_classes, dropout_p=0.2):\n",
    "        super(GRU, self).__init__()\n",
    "        self.n_layers = n_layers\n",
    "        self.hidden_dim = hidden_dim\n",
    "\n",
    "        self.embed = nn.Embedding(n_vocab, embed_dim)\n",
    "        self.dropout = nn.Dropout(dropout_p)\n",
    "        self.gru = nn.GRU(embed_dim, self.hidden_dim,\n",
    "                          num_layers=self.n_layers,\n",
    "                          batch_first=True)\n",
    "        self.out = nn.Linear(self.hidden_dim, n_classes)\n",
    "\n",
    "    def forward(self, x):\n",
    "        x = self.embed(x)\n",
    "        h_0 = self._init_state(batch_size=x.size(0))\n",
    "        x, _ = self.gru(x, h_0)\n",
    "        h_t = x[:,-1,:]\n",
    "        self.dropout(h_t)\n",
    "        logit = self.out(h_t)\n",
    "        return logit\n",
    "\n",
    "    def _init_state(self, batch_size=1):\n",
    "        weight = next(self.parameters()).data\n",
    "        return weight.new(self.n_layers, batch_size, self.hidden_dim).zero_()"
   ]
  },
  {
   "attachments": {},
   "cell_type": "markdown",
   "metadata": {},
   "source": [
    "#### Legacy Code  \n",
    "!pip install --upgrade torchtext==0.6.0"
   ]
  },
  {
   "cell_type": "code",
   "execution_count": 2,
   "metadata": {},
   "outputs": [],
   "source": [
    "import torch\n",
    "\n",
    "from torchtext import data\n",
    "from torchtext import data, datasets\n",
    "\n",
    "USE_CUDA = torch.cuda.is_available()\n",
    "DEVICE = torch.device(\"cuda\" if USE_CUDA else \"cpu\")\n",
    "\n",
    "TEXT = data.Field(sequential=True, batch_first=True, lower=True)\n",
    "LABEL = data.Field(sequential=False, batch_first=True)\n",
    "trainset, testset = datasets.IMDB.splits(TEXT, LABEL)\n",
    "\n",
    "TEXT.build_vocab(trainset, min_freq=5)\n",
    "LABEL.build_vocab(trainset)\n",
    "\n",
    "BATCH_SIZE = 64\n",
    "trainset, valset = trainset.split(split_ratio=0.8)\n",
    "train_iter, val_iter, test_iter = data.BucketIterator.splits(\n",
    "        (trainset, valset, testset), batch_size=BATCH_SIZE,\n",
    "        shuffle=True, repeat=False)"
   ]
  },
  {
   "cell_type": "code",
   "execution_count": 3,
   "metadata": {},
   "outputs": [],
   "source": [
    "n_classes = 2\n",
    "vocab_size = len(TEXT.vocab)\n",
    "lr = 0.001\n",
    "\n",
    "model = GRU(1, 256, vocab_size, 128, n_classes, 0.5).to(DEVICE)\n",
    "optimizer = torch.optim.Adam(model.parameters(), lr=lr)"
   ]
  },
  {
   "cell_type": "code",
   "execution_count": 4,
   "metadata": {},
   "outputs": [
    {
     "name": "stdout",
     "output_type": "stream",
     "text": [
      "[Epoch: 1] valid loss: 0.69 | valid accuracy: 49.28\n",
      "[Epoch: 2] valid loss: 0.70 | valid accuracy: 50.02\n",
      "[Epoch: 3] valid loss: 0.75 | valid accuracy: 49.38\n",
      "[Epoch: 4] valid loss: 0.77 | valid accuracy: 50.26\n",
      "[Epoch: 5] valid loss: 0.39 | valid accuracy: 83.06\n",
      "[Epoch: 6] valid loss: 0.32 | valid accuracy: 86.38\n",
      "[Epoch: 7] valid loss: 0.33 | valid accuracy: 86.48\n",
      "[Epoch: 8] valid loss: 0.36 | valid accuracy: 86.68\n",
      "[Epoch: 9] valid loss: 0.39 | valid accuracy: 86.24\n",
      "[Epoch: 10] valid loss: 0.41 | valid accuracy: 86.10\n"
     ]
    }
   ],
   "source": [
    "import torch.nn.functional as F\n",
    "\n",
    "def train(model, optimizer, train_iter):\n",
    "    model.train()\n",
    "    for batch in train_iter:\n",
    "        x, y = batch.text.to(DEVICE), batch.label.to(DEVICE)\n",
    "        y.data.sub_(1) # <unk>:0 인 token 값 제거\n",
    "        optimizer.zero_grad()\n",
    "\n",
    "        logit = model(x)\n",
    "        loss = F.cross_entropy(logit, y)\n",
    "        loss.backward()\n",
    "        optimizer.step()\n",
    "\n",
    "# 모델 평가 함수를 만듭니다.\n",
    "def evaluate(model, valid_iter):\n",
    "    \"\"\"evaluate model\"\"\"\n",
    "    model.eval()\n",
    "    corrects, total_loss = 0, 0\n",
    "    for batch in valid_iter:\n",
    "        x, y = batch.text.to(DEVICE), batch.label.to(DEVICE)\n",
    "        y.data.sub_(1) # <unk>:0 인 token 값 제거\n",
    "        logit = model(x)\n",
    "        loss = F.cross_entropy(logit, y, reduction='sum')\n",
    "        total_loss += loss.item()\n",
    "        corrects += (logit.max(1)[1].view(y.size()).data == y.data).sum()\n",
    "    size = len(valid_iter.dataset)\n",
    "    avg_loss = total_loss / size\n",
    "    avg_accuracy = 100.0 * corrects / size\n",
    "    return avg_loss, avg_accuracy\n",
    "\n",
    "best_model = None\n",
    "best_val_loss = None\n",
    "EPOCHS = 10\n",
    "\n",
    "for epoch in range(1, EPOCHS+1):\n",
    "    train(model, optimizer, train_iter)\n",
    "    val_loss, val_accuracy = evaluate(model, val_iter)\n",
    "    print(f\"[Epoch: {epoch}] valid loss: {val_loss:.2f} | \"\n",
    "          f\"valid accuracy: {val_accuracy:.2f}\")\n",
    "\n",
    "    # 검증 오차가 가장 적은 최적의 모델을 저장\n",
    "    if not best_val_loss or val_loss < best_val_loss:\n",
    "        best_model = model\n",
    "        best_val_loss = val_loss"
   ]
  },
  {
   "cell_type": "code",
   "execution_count": 5,
   "metadata": {},
   "outputs": [
    {
     "name": "stdout",
     "output_type": "stream",
     "text": [
      "test loss: 0.36 | test accuracy: 86.49\n"
     ]
    }
   ],
   "source": [
    "test_loss, test_acc = evaluate(model, test_iter)\n",
    "print(f'test loss: {test_loss:.2f} | test accuracy: {test_acc:.2f}')"
   ]
  },
  {
   "attachments": {},
   "cell_type": "markdown",
   "metadata": {},
   "source": [
    "#### New Code  \n",
    "!pip install --upgrade torchtext==0.14.0"
   ]
  },
  {
   "cell_type": "code",
   "execution_count": 1,
   "metadata": {},
   "outputs": [
    {
     "name": "stderr",
     "output_type": "stream",
     "text": [
      "/opt/conda/lib/python3.9/site-packages/tqdm/auto.py:22: TqdmWarning: IProgress not found. Please update jupyter and ipywidgets. See https://ipywidgets.readthedocs.io/en/stable/user_install.html\n",
      "  from .autonotebook import tqdm as notebook_tqdm\n"
     ]
    }
   ],
   "source": [
    "import torch\n",
    "from torch.nn.utils.rnn import pad_sequence\n",
    "from torch.utils.data import random_split\n",
    "from torch.utils.data import DataLoader\n",
    "\n",
    "from torchtext.datasets import IMDB\n",
    "from torchtext.data.functional import to_map_style_dataset\n",
    "from torchtext.data.utils import get_tokenizer\n",
    "from torchtext.vocab import build_vocab_from_iterator\n",
    "\n",
    "USE_CUDA = torch.cuda.is_available()\n",
    "DEVICE = torch.device(\"cuda\" if USE_CUDA else \"cpu\")\n",
    "\n",
    "tokenizer = get_tokenizer('basic_english')\n",
    "train_iter, test_iter = IMDB(root='.data', split=('train', 'test'))\n",
    "\n",
    "def train_valid_split(train_iterator, split_ratio=0.8, seed=42):\n",
    "    train_count = int(split_ratio * len(train_iterator))\n",
    "    valid_count = len(train_iterator) - train_count\n",
    "    generator = torch.Generator().manual_seed(seed)\n",
    "    train_set, valid_set = random_split(\n",
    "        train_iterator, lengths=[train_count, valid_count],\n",
    "        generator=generator)\n",
    "    return train_set, valid_set\n",
    "\n",
    "train_iter = to_map_style_dataset(train_iter)\n",
    "test_iter = to_map_style_dataset(test_iter)\n",
    "\n",
    "train_set, val_set = train_valid_split(train_iter)\n",
    "\n",
    "def yield_tokens(data_iter):\n",
    "    for _, text in data_iter:\n",
    "        yield tokenizer(text)\n",
    "\n",
    "vocab = build_vocab_from_iterator(\n",
    "    iterator=yield_tokens(train_iter),\n",
    "    min_freq=5,\n",
    "    specials=['<unk>'],)\n",
    "vocab.set_default_index(vocab['<unk>'])\n",
    "\n",
    "def collate_batch(batch):\n",
    "    text_pipeline = lambda x: vocab(tokenizer(x))\n",
    "    label_pipeline = lambda x: int(x)\n",
    "\n",
    "    label_list, text_list = [], []\n",
    "    for (_label, _text) in batch:\n",
    "        label_list.append(label_pipeline(_label))\n",
    "        processed_text = torch.tensor(text_pipeline(_text), dtype=torch.int64)\n",
    "        text_list.append(processed_text)\n",
    "    label_list = torch.tensor(label_list, dtype=torch.int64)\n",
    "    text_tensor = pad_sequence(text_list, padding_value=1, batch_first=True)\n",
    "    return text_tensor, label_list\n",
    "\n",
    "train_dataloader = DataLoader(\n",
    "    train_set, batch_size=64, shuffle=True, collate_fn=collate_batch)\n",
    "val_dataloader = DataLoader(\n",
    "    val_set, batch_size=64, shuffle=True, collate_fn=collate_batch)\n",
    "test_dataloader = DataLoader(\n",
    "    test_iter, batch_size=64, shuffle=True, collate_fn=collate_batch)"
   ]
  },
  {
   "cell_type": "code",
   "execution_count": 5,
   "metadata": {},
   "outputs": [],
   "source": [
    "n_classes = 2\n",
    "vocab_size = len(vocab)\n",
    "lr = 0.001\n",
    "\n",
    "model = GRU(1, 256, vocab_size, 128, n_classes, 0.5).to(DEVICE)\n",
    "optimizer = torch.optim.Adam(model.parameters(), lr=lr)"
   ]
  },
  {
   "cell_type": "code",
   "execution_count": 6,
   "metadata": {},
   "outputs": [
    {
     "name": "stdout",
     "output_type": "stream",
     "text": [
      "[Epoch: 1] valid loss: 0.70 | valid accuracy: 49.62\n",
      "[Epoch: 2] valid loss: 0.66 | valid accuracy: 62.36\n",
      "[Epoch: 3] valid loss: 0.37 | valid accuracy: 84.74\n",
      "[Epoch: 4] valid loss: 0.31 | valid accuracy: 87.56\n",
      "[Epoch: 5] valid loss: 0.38 | valid accuracy: 87.36\n",
      "[Epoch: 6] valid loss: 0.36 | valid accuracy: 88.36\n",
      "[Epoch: 7] valid loss: 0.41 | valid accuracy: 87.66\n",
      "[Epoch: 8] valid loss: 0.46 | valid accuracy: 87.86\n",
      "[Epoch: 9] valid loss: 0.48 | valid accuracy: 88.82\n",
      "[Epoch: 10] valid loss: 0.48 | valid accuracy: 88.70\n"
     ]
    }
   ],
   "source": [
    "import torch.nn.functional as F\n",
    "\n",
    "def train(model, optimizer, train_iter):\n",
    "    model.train()\n",
    "    for x, y in train_iter:\n",
    "        x, y = x.to(DEVICE), y.to(DEVICE)\n",
    "        y.sub_(1) # <unk>:0 인 token 값 제거\n",
    "        optimizer.zero_grad()\n",
    "\n",
    "        logit = model(x)\n",
    "        loss = F.cross_entropy(logit, y)\n",
    "        loss.backward()\n",
    "        optimizer.step()\n",
    "\n",
    "def evaluate(model, valid_iter, total_valid_set_len):\n",
    "    \"\"\"evaluate model\"\"\"\n",
    "    model.eval()\n",
    "    corrects, total_loss = 0, 0\n",
    "    for x, y in valid_iter:\n",
    "        x, y = x.to(DEVICE), y.to(DEVICE)\n",
    "        y.sub_(1) # <unk>:0 인 token 값 제거\n",
    "        logit = model(x)\n",
    "        loss = F.cross_entropy(logit, y, reduction='sum')\n",
    "        total_loss += loss.item()\n",
    "        corrects += (logit.max(1)[1].view(y.size()).data == y.data).sum()\n",
    "    \n",
    "    size = total_valid_set_len\n",
    "    avg_loss = total_loss / size\n",
    "    avg_accuracy = 100.0 * corrects / size\n",
    "    return avg_loss, avg_accuracy\n",
    "\n",
    "best_model = None\n",
    "best_val_loss = None\n",
    "EPOCHS = 10\n",
    "\n",
    "for epoch in range(1, EPOCHS+1):\n",
    "    train(model, optimizer, train_dataloader)\n",
    "    with torch.no_grad():\n",
    "        val_loss, val_accuracy = evaluate(model, val_dataloader, len(val_set))\n",
    "    print(f\"[Epoch: {epoch}] valid loss: {val_loss:.2f} | \"\n",
    "          f\"valid accuracy: {val_accuracy:.2f}\")\n",
    "    if not best_val_loss or val_loss < best_val_loss:\n",
    "        best_model = model\n",
    "        best_val_loss = val_loss"
   ]
  },
  {
   "cell_type": "code",
   "execution_count": 7,
   "metadata": {},
   "outputs": [
    {
     "name": "stdout",
     "output_type": "stream",
     "text": [
      "test loss: 0.53 | test accuracy: 87.60\n"
     ]
    }
   ],
   "source": [
    "test_loss, test_acc = evaluate(model, test_dataloader, len(test_iter))\n",
    "print(f'test loss: {test_loss:.2f} | test accuracy: {test_acc:.2f}')"
   ]
  }
 ],
 "metadata": {
  "kernelspec": {
   "display_name": "base",
   "language": "python",
   "name": "python3"
  },
  "language_info": {
   "codemirror_mode": {
    "name": "ipython",
    "version": 3
   },
   "file_extension": ".py",
   "mimetype": "text/x-python",
   "name": "python",
   "nbconvert_exporter": "python",
   "pygments_lexer": "ipython3",
   "version": "3.9.12"
  },
  "vscode": {
   "interpreter": {
    "hash": "d4d1e4263499bec80672ea0156c357c1ee493ec2b1c70f0acce89fc37c4a6abe"
   }
  }
 },
 "nbformat": 4,
 "nbformat_minor": 4
}
