{
 "cells": [
  {
   "attachments": {},
   "cell_type": "markdown",
   "metadata": {},
   "source": [
    "- 선형 회귀란 학습 데이터와 가장 잘 맞는 하나의 직선을 찾는 일. 이때 선형 회귀의 가설(직선의 방정식)은 아래와 같은 형식을 가짐  \n",
    "$ y = Wx + b $\n",
    "- 가설의 H를 따서 y대신 다음과 같이 식을 표현하기도 함  \n",
    "$ H(x) = Wx + b $  \n",
    "- 이때 x와 곱해지는 W를 가중치(Weight)라고 하며, b를 편향(bias)이라고 함\n",
    "    - W와 b는 직선의 방정식에서 기울기와 y 절편에 해당됨"
   ]
  },
  {
   "attachments": {},
   "cell_type": "markdown",
   "metadata": {},
   "source": [
    "- 비용 함수(Cost function)  \n",
    "비용 함수(cost function) = 손실 함수(loss function) = 오차 함수(error function) = 목적 함수(objective function)  \n",
    "\n",
    "- 예측값들과 실제값들과의 총 오차(total error)는 어떻게 구할까?  \n",
    "수식적으로 단순히 '오차 = 실제값 - 예측값'으로 정의하면 오차값이 음수가 나오는 경우가 생김  \n",
    "그래서 오차를 그냥 전부 더하는 것이 아니라, 각 오차들을 제곱해준 뒤에 전부 더함  \n",
    "\n",
    "- 평균 제곱 오차 (Mean Squared Error, MSE)  \n",
    "오차의 제곱합에 대해 데이터의 개수인 n으로 나눈 평균값  "
   ]
  },
  {
   "attachments": {},
   "cell_type": "markdown",
   "metadata": {},
   "source": [
    "- 옵티마이저 - 경사 하강법(Gradient Descent)  \n",
    "비용 함수(Cost Function)의 값을 최소로 하는 W와 b를 찾을 때 사용되는 것이 옵티마이저(Optimizer), 최적화 알고리즘  \n",
    "이 옵티마이저 알고리즘을 통해 적절한 W와 b를 찾아내는 과정을 머신 러닝에서 학습(training)이라고 부름"
   ]
  },
  {
   "cell_type": "code",
   "execution_count": 1,
   "metadata": {},
   "outputs": [],
   "source": [
    "import torch\n",
    "import torch.nn as nn\n",
    "import torch.nn.functional as F\n",
    "import torch.optim as optim"
   ]
  },
  {
   "cell_type": "code",
   "execution_count": 2,
   "metadata": {},
   "outputs": [
    {
     "data": {
      "text/plain": [
       "<torch._C.Generator at 0x7f7e215b02d0>"
      ]
     },
     "execution_count": 2,
     "metadata": {},
     "output_type": "execute_result"
    }
   ],
   "source": [
    "torch.manual_seed(1)"
   ]
  },
  {
   "cell_type": "code",
   "execution_count": 3,
   "metadata": {},
   "outputs": [
    {
     "name": "stdout",
     "output_type": "stream",
     "text": [
      "tensor([[1.],\n",
      "        [2.],\n",
      "        [3.]])\n",
      "torch.Size([3, 1])\n",
      "tensor([[2.],\n",
      "        [4.],\n",
      "        [6.]])\n",
      "torch.Size([3, 1])\n"
     ]
    }
   ],
   "source": [
    "# 변수 선언\n",
    "x_train = torch.FloatTensor([[1], [2], [3]])\n",
    "y_train = torch.FloatTensor([[2], [4], [6]])\n",
    "print(x_train)\n",
    "print(x_train.shape)\n",
    "print(y_train)\n",
    "print(y_train.shape)"
   ]
  },
  {
   "cell_type": "code",
   "execution_count": 4,
   "metadata": {},
   "outputs": [
    {
     "name": "stdout",
     "output_type": "stream",
     "text": [
      "tensor([0.], requires_grad=True)\n",
      "tensor([0.], requires_grad=True)\n"
     ]
    }
   ],
   "source": [
    "# 가중치와 편향의 초기화\n",
    "# 선형 회귀의 목표는 가장 잘 맞는 직선을 정의하는 W 와 b의 값을 찾는 것\n",
    "\n",
    "# 가중치 W를 0으로 초기화하고 학습을 통해 값이 변경되는 변수임을 명시함.\n",
    "W = torch.zeros(1, requires_grad=True)\n",
    "print(W)\n",
    "\n",
    "# 편향 b도 0으로 초기화하고 학습을 통해 값이 변경되는 변수임을 명시함.\n",
    "b = torch.zeros(1, requires_grad=True)\n",
    "print(b)\n",
    "\n",
    "# 현재 가중치 W와 편향 b 둘다 0 이므로 방정식은 y = 0xW + b"
   ]
  },
  {
   "cell_type": "code",
   "execution_count": 5,
   "metadata": {},
   "outputs": [
    {
     "name": "stdout",
     "output_type": "stream",
     "text": [
      "tensor([[0.],\n",
      "        [0.],\n",
      "        [0.]], grad_fn=<AddBackward0>)\n",
      "tensor(18.6667, grad_fn=<MeanBackward0>)\n"
     ]
    }
   ],
   "source": [
    "# 가설 세우기\n",
    "hypothesis = x_train * W + b\n",
    "print(hypothesis)\n",
    "\n",
    "# 비용함수 선언 (MSE)\n",
    "cost = torch.mean((hypothesis - y_train) ** 2)\n",
    "print(cost)"
   ]
  },
  {
   "cell_type": "code",
   "execution_count": 6,
   "metadata": {},
   "outputs": [],
   "source": [
    "# 경사 하강법 구현. SGD는 경사 하강법의 일종.\n",
    "optimizer = optim.SGD([W, b], lr=0.01)\n",
    "\n",
    "# optimizer.zero_grad()를 실행하므로서 미분을 통해 얻은 기울기를 0으로 초기화 함.\n",
    "# 기울기를 초기화해야만 새로운 가중치 편향에 대해서 새로운 기울기를 구할 수 있음.\n",
    "# cost.backward() 함수를 호출하면 가중치 W와 편향 b에 대한 기울기가 계산됨.\n",
    "# 그 다음 경사 하강법 최적화 함수 opimizer의 step() 함수를 호출하여 인수로 들어갔던 \n",
    "# W와 b에서 리턴되는 변수들의 기울기에 학습률(learining rate) 0.01을 곱하여 빼줌으로서 업데이트함\n",
    "\n",
    "# gradient를 0으로 초기화\n",
    "optimizer.zero_grad()\n",
    "# 비용 함수를 미분하여 gradient 계산\n",
    "cost.backward()\n",
    "# W와 b를 업데이트\n",
    "optimizer.step()"
   ]
  },
  {
   "cell_type": "code",
   "execution_count": 7,
   "metadata": {},
   "outputs": [
    {
     "name": "stdout",
     "output_type": "stream",
     "text": [
      "Epoch    0/1999 W: 0.187, b: 0.080 Cost: 18.666666\n",
      "Epoch  100/1999 W: 1.746, b: 0.578 Cost: 0.048171\n",
      "Epoch  200/1999 W: 1.800, b: 0.454 Cost: 0.029767\n",
      "Epoch  300/1999 W: 1.843, b: 0.357 Cost: 0.018394\n",
      "Epoch  400/1999 W: 1.876, b: 0.281 Cost: 0.011366\n",
      "Epoch  500/1999 W: 1.903, b: 0.221 Cost: 0.007024\n",
      "Epoch  600/1999 W: 1.924, b: 0.174 Cost: 0.004340\n",
      "Epoch  700/1999 W: 1.940, b: 0.136 Cost: 0.002682\n",
      "Epoch  800/1999 W: 1.953, b: 0.107 Cost: 0.001657\n",
      "Epoch  900/1999 W: 1.963, b: 0.084 Cost: 0.001024\n",
      "Epoch 1000/1999 W: 1.971, b: 0.066 Cost: 0.000633\n",
      "Epoch 1100/1999 W: 1.977, b: 0.052 Cost: 0.000391\n",
      "Epoch 1200/1999 W: 1.982, b: 0.041 Cost: 0.000242\n",
      "Epoch 1300/1999 W: 1.986, b: 0.032 Cost: 0.000149\n",
      "Epoch 1400/1999 W: 1.989, b: 0.025 Cost: 0.000092\n",
      "Epoch 1500/1999 W: 1.991, b: 0.020 Cost: 0.000057\n",
      "Epoch 1600/1999 W: 1.993, b: 0.016 Cost: 0.000035\n",
      "Epoch 1700/1999 W: 1.995, b: 0.012 Cost: 0.000022\n",
      "Epoch 1800/1999 W: 1.996, b: 0.010 Cost: 0.000013\n",
      "Epoch 1900/1999 W: 1.997, b: 0.008 Cost: 0.000008\n"
     ]
    }
   ],
   "source": [
    "# 전체 코드\n",
    "x_train = torch.FloatTensor([[1], [2], [3]])\n",
    "y_train = torch.FloatTensor([[2], [4], [6]])\n",
    "# 모델 초기화\n",
    "W = torch.zeros(1, requires_grad=True)\n",
    "b = torch.zeros(1, requires_grad=True)\n",
    "# optimizer 설정\n",
    "optimizer = optim.SGD([W, b], lr=0.01)\n",
    "\n",
    "nb_epochs = 1999 # 원하는만큼 경사 하강법을 반복\n",
    "for epoch in range(nb_epochs + 1):\n",
    "\n",
    "    # H(x) 계산\n",
    "    hypothesis = x_train * W + b\n",
    "\n",
    "    # cost 계산\n",
    "    cost = torch.mean((hypothesis - y_train) ** 2)\n",
    "\n",
    "    # cost로 H(x) 개선\n",
    "    optimizer.zero_grad()\n",
    "    cost.backward()\n",
    "    optimizer.step()\n",
    "\n",
    "    # 100번마다 로그 출력\n",
    "    if epoch % 100 == 0:\n",
    "        print('Epoch {:4d}/{} W: {:.3f}, b: {:.3f} Cost: {:.6f}'.format(\n",
    "            epoch, nb_epochs, W.item(), b.item(), cost.item()))"
   ]
  },
  {
   "cell_type": "code",
   "execution_count": 8,
   "metadata": {},
   "outputs": [
    {
     "name": "stdout",
     "output_type": "stream",
     "text": [
      "w 미분 값 : tensor(2.)\n",
      "w 미분 값 : tensor(4.)\n",
      "w 미분 값 : tensor(6.)\n",
      "w 미분 값 : tensor(8.)\n",
      "w 미분 값 : tensor(10.)\n",
      "w 미분 값 : tensor(12.)\n",
      "w 미분 값 : tensor(14.)\n",
      "w 미분 값 : tensor(16.)\n",
      "w 미분 값 : tensor(18.)\n",
      "w 미분 값 : tensor(20.)\n",
      "w 미분 값 : tensor(22.)\n",
      "w 미분 값 : tensor(24.)\n",
      "w 미분 값 : tensor(26.)\n",
      "w 미분 값 : tensor(28.)\n",
      "w 미분 값 : tensor(30.)\n",
      "w 미분 값 : tensor(32.)\n",
      "w 미분 값 : tensor(34.)\n",
      "w 미분 값 : tensor(36.)\n",
      "w 미분 값 : tensor(38.)\n",
      "w 미분 값 : tensor(40.)\n",
      "w 미분 값 : tensor(42.)\n"
     ]
    }
   ],
   "source": [
    "# optimizer.zero_grad()가 필요한 이유\n",
    "w = torch.tensor(2.0, requires_grad=True)\n",
    "\n",
    "nb_epochs = 20\n",
    "for epoch in range(nb_epochs+1):\n",
    "    z = 2 * w\n",
    "    z.backward()\n",
    "    # 계속해서 미분값인 2가 누적되기 때문에 0으로 초기화시켜줘야 함\n",
    "    print('w 미분 값 :', w.grad)"
   ]
  },
  {
   "cell_type": "code",
   "execution_count": 9,
   "metadata": {},
   "outputs": [
    {
     "name": "stdout",
     "output_type": "stream",
     "text": [
      "수식을 w로 미분한 값: tensor(8.)\n"
     ]
    }
   ],
   "source": [
    "# 자동 미분\n",
    "# requires_grad=True는 이 텐서에 대한 기울기 저장.\n",
    "w = torch.tensor(2.0, requires_grad=True)\n",
    "\n",
    "y = w**2\n",
    "z = 2*y + 5\n",
    "\n",
    "z.backward() # w에 대한 기울기를 계산\n",
    "print('수식을 w로 미분한 값:', w.grad)"
   ]
  },
  {
   "attachments": {},
   "cell_type": "markdown",
   "metadata": {},
   "source": [
    "다중 선형 회귀  \n",
    "$ H(x) = w_1x_1 + w_2x_2 + w_3x_3 + b $ "
   ]
  },
  {
   "cell_type": "code",
   "execution_count": 10,
   "metadata": {},
   "outputs": [
    {
     "name": "stdout",
     "output_type": "stream",
     "text": [
      "Epoch    0/1000 w1: 0.294 w2: 0.294 w3: 0.297 b: 0.003 Cost: 29661.800781\n",
      "Epoch  100/1000 w1: 0.674 w2: 0.661 w3: 0.676 b: 0.008 Cost: 1.563628\n",
      "Epoch  200/1000 w1: 0.679 w2: 0.655 w3: 0.677 b: 0.008 Cost: 1.497595\n",
      "Epoch  300/1000 w1: 0.684 w2: 0.649 w3: 0.677 b: 0.008 Cost: 1.435044\n",
      "Epoch  400/1000 w1: 0.689 w2: 0.643 w3: 0.678 b: 0.008 Cost: 1.375726\n",
      "Epoch  500/1000 w1: 0.694 w2: 0.638 w3: 0.678 b: 0.009 Cost: 1.319507\n",
      "Epoch  600/1000 w1: 0.699 w2: 0.633 w3: 0.679 b: 0.009 Cost: 1.266222\n",
      "Epoch  700/1000 w1: 0.704 w2: 0.627 w3: 0.679 b: 0.009 Cost: 1.215703\n",
      "Epoch  800/1000 w1: 0.709 w2: 0.622 w3: 0.679 b: 0.009 Cost: 1.167810\n",
      "Epoch  900/1000 w1: 0.713 w2: 0.617 w3: 0.680 b: 0.009 Cost: 1.122429\n",
      "Epoch 1000/1000 w1: 0.718 w2: 0.613 w3: 0.680 b: 0.009 Cost: 1.079390\n"
     ]
    }
   ],
   "source": [
    "# 훈련 데이터\n",
    "x1_train = torch.FloatTensor([[73], [93], [89], [96], [73]])\n",
    "x2_train = torch.FloatTensor([[80], [88], [91], [98], [66]])\n",
    "x3_train = torch.FloatTensor([[75], [93], [90], [100], [70]])\n",
    "y_train = torch.FloatTensor([[152], [185], [180], [196], [142]])\n",
    "\n",
    "# 가중치 w와 편향 b 초기화\n",
    "w1 = torch.zeros(1, requires_grad=True)\n",
    "w2 = torch.zeros(1, requires_grad=True)\n",
    "w3 = torch.zeros(1, requires_grad=True)\n",
    "b = torch.zeros(1, requires_grad=True)\n",
    "\n",
    "# optimizer 설정\n",
    "optimizer = optim.SGD([w1, w2, w3, b], lr=1e-5)\n",
    "\n",
    "nb_epochs = 1000\n",
    "for epoch in range(nb_epochs+1):\n",
    "    # H(x) \n",
    "    hypothesis = x1_train * w1 + x2_train * w2 + x3_train * w3 + b\n",
    "    # cost \n",
    "    cost = torch.mean((hypothesis - y_train) ** 2)\n",
    "    # cost로 H(x) 계산\n",
    "    optimizer.zero_grad()\n",
    "    cost.backward()\n",
    "    optimizer.step()\n",
    "    # 100번마다 로그 출력\n",
    "    if epoch % 100 == 0:\n",
    "        print('Epoch {:4d}/{} w1: {:.3f} w2: {:.3f} w3: {:.3f} b: {:.3f} Cost: {:.6f}'.format(\n",
    "            epoch, nb_epochs, w1.item(), w2.item(), w3.item(), b.item(), cost.item()))\n",
    "    "
   ]
  },
  {
   "attachments": {},
   "cell_type": "markdown",
   "metadata": {},
   "source": [
    "- 백터 내적  \n",
    "행렬의 곱셈 과정에서 이루어지는 벡터 연산  \n",
    "$ H(X) = w_1x_1 + w_2x_2 + w_3x_3 $ 는 아래와 같이 벡터의 내적으로 표현함  \n",
    "$ \\begin{pmatrix} x_1 & x_2 & x_3 \\end{pmatrix} \\cdot \\begin{pmatrix} w_1 \\\\ w_2 \\\\ w_3 \\end{pmatrix} = (x_1w_1 + x_2w_2 + x_3w_3) $  \n",
    "H(X) = XW\n",
    "\n",
    "- 5개의 데이터, feature가 3일 때 독립 변수 x 개수 = (5 x 3) = 15  \n",
    "$ \n",
    "\\begin{pmatrix} x_{11} & x_{12} & x_{13} \\\\ x_{21} & x_{22} & x_{23} \\\\ x_{31} & x_{32} & x_{33} \\\\ x_{41} & x_{42} & x_{43} \\\\ x_{51} & x_{52} & x_{53}\\end{pmatrix}\n",
    "\\cdot\n",
    "\\begin{pmatrix} w_1 \\\\ w_2 \\\\ w_3 \\end{pmatrix} + \\begin{pmatrix} b \\\\ b \\\\ b \\\\ b \\\\ b \\end{pmatrix}\n",
    "=\n",
    "\\begin{pmatrix} x_{11}w_1 + x_{12}w_2 + x_{13}w_3 + b \\\\ x_{21}w_1 + x_{22}w_2 + x_{23}w_3 + b \\\\ x_{31}w_1 + x_{32}w_2 + x_{33}w_3 + b \\\\ x_{41}w_1 + x_{42}w_2 + x_{43}w_3 + b \\\\ x_{51}w_1 + x_{52}w_2 + x_{53}w_3 + b\\end{pmatrix} $  \n",
    "H(X) = XW + B"
   ]
  },
  {
   "cell_type": "code",
   "execution_count": 11,
   "metadata": {},
   "outputs": [
    {
     "name": "stdout",
     "output_type": "stream",
     "text": [
      "torch.Size([5, 3])\n",
      "torch.Size([5, 1])\n",
      "Epoch    0/20 hypothesis: tensor([0., 0., 0., 0., 0.]) Cost: 29661.800781\n",
      "Epoch    1/20 hypothesis: tensor([66.7178, 80.1701, 76.1025, 86.0194, 61.1565]) Cost: 9537.694336\n",
      "Epoch    2/20 hypothesis: tensor([104.5421, 125.6208, 119.2478, 134.7861,  95.8280]) Cost: 3069.590820\n",
      "Epoch    3/20 hypothesis: tensor([125.9858, 151.3882, 143.7087, 162.4333, 115.4844]) Cost: 990.670288\n",
      "Epoch    4/20 hypothesis: tensor([138.1429, 165.9963, 157.5768, 178.1071, 126.6283]) Cost: 322.481964\n",
      "Epoch    5/20 hypothesis: tensor([145.0350, 174.2780, 165.4395, 186.9928, 132.9461]) Cost: 107.717064\n",
      "Epoch    6/20 hypothesis: tensor([148.9423, 178.9731, 169.8976, 192.0301, 136.5279]) Cost: 38.687401\n",
      "Epoch    7/20 hypothesis: tensor([151.1574, 181.6347, 172.4254, 194.8856, 138.5585]) Cost: 16.499046\n",
      "Epoch    8/20 hypothesis: tensor([152.4131, 183.1435, 173.8590, 196.5042, 139.7097]) Cost: 9.365656\n",
      "Epoch    9/20 hypothesis: tensor([153.1250, 183.9988, 174.6723, 197.4216, 140.3625]) Cost: 7.071105\n",
      "Epoch   10/20 hypothesis: tensor([153.5285, 184.4835, 175.1338, 197.9415, 140.7325]) Cost: 6.331867\n",
      "Epoch   11/20 hypothesis: tensor([153.7572, 184.7582, 175.3958, 198.2360, 140.9424]) Cost: 6.092532\n",
      "Epoch   12/20 hypothesis: tensor([153.8868, 184.9138, 175.5449, 198.4026, 141.0614]) Cost: 6.013823\n",
      "Epoch   13/20 hypothesis: tensor([153.9602, 185.0019, 175.6299, 198.4969, 141.1288]) Cost: 5.986775\n",
      "Epoch   14/20 hypothesis: tensor([154.0017, 185.0517, 175.6785, 198.5501, 141.1671]) Cost: 5.976314\n",
      "Epoch   15/20 hypothesis: tensor([154.0252, 185.0798, 175.7065, 198.5800, 141.1888]) Cost: 5.971213\n",
      "Epoch   16/20 hypothesis: tensor([154.0385, 185.0956, 175.7229, 198.5966, 141.2012]) Cost: 5.967797\n",
      "Epoch   17/20 hypothesis: tensor([154.0459, 185.1045, 175.7326, 198.6058, 141.2082]) Cost: 5.964961\n",
      "Epoch   18/20 hypothesis: tensor([154.0501, 185.1094, 175.7386, 198.6108, 141.2122]) Cost: 5.962292\n",
      "Epoch   19/20 hypothesis: tensor([154.0524, 185.1120, 175.7424, 198.6134, 141.2145]) Cost: 5.959693\n",
      "Epoch   20/20 hypothesis: tensor([154.0536, 185.1134, 175.7451, 198.6146, 141.2158]) Cost: 5.957091\n"
     ]
    }
   ],
   "source": [
    "x_train  =  torch.FloatTensor([[73, 80, 75], \n",
    "                               [93, 88, 93], \n",
    "                               [89, 91, 80], \n",
    "                               [96, 98, 100],   \n",
    "                               [73, 66, 70]])  \n",
    "y_train  =  torch.FloatTensor([[152], [185], [180], [196], [142]])\n",
    "print(x_train.shape) # (5, 3)\n",
    "print(y_train.shape) # (5, 1)\n",
    "\n",
    "# 가중치와 편향 선언 (3, 1)\n",
    "# 행렬의 곱셈이 성립되려면 곱셈의 좌측에 있는 행렬의 열의 크기(5, 3)와 \n",
    "# 우측에 있는 행렬의 행의 크기가 일치해야 함\n",
    "W = torch.zeros((3, 1), requires_grad=True)\n",
    "b = torch.zeros(1, requires_grad=True)\n",
    "\n",
    "# optimizer 설정\n",
    "optimizer = optim.SGD([W, b], lr=1e-5)\n",
    "\n",
    "nb_epochs = 20\n",
    "for epoch in range(nb_epochs + 1):\n",
    "    # H(x) 계산. b는 브로드 캐스팅되어 각 샘플에 더해짐\n",
    "    hypothesis = x_train.matmul(W) + b\n",
    "    # cost 계산\n",
    "    cost = torch.mean((hypothesis - y_train) ** 2)\n",
    "    # cost로 H(x) 갱신\n",
    "    optimizer.zero_grad()\n",
    "    cost.backward()\n",
    "    optimizer.step()\n",
    "\n",
    "    print('Epoch {:4d}/{} hypothesis: {} Cost: {:.6f}'.format(\n",
    "        epoch, nb_epochs, hypothesis.squeeze().detach(), cost.item()))"
   ]
  },
  {
   "attachments": {},
   "cell_type": "markdown",
   "metadata": {},
   "source": [
    "nn.Module을 이용한 선형 회귀"
   ]
  },
  {
   "cell_type": "code",
   "execution_count": 12,
   "metadata": {},
   "outputs": [
    {
     "data": {
      "text/plain": [
       "<torch._C.Generator at 0x7f7e215b02d0>"
      ]
     },
     "execution_count": 12,
     "metadata": {},
     "output_type": "execute_result"
    }
   ],
   "source": [
    "import torch\n",
    "import torch.nn as nn\n",
    "import torch.nn.functional as F\n",
    "\n",
    "torch.manual_seed(1)"
   ]
  },
  {
   "cell_type": "code",
   "execution_count": 13,
   "metadata": {},
   "outputs": [
    {
     "name": "stdout",
     "output_type": "stream",
     "text": [
      "[Parameter containing:\n",
      "tensor([[0.5153]], requires_grad=True), Parameter containing:\n",
      "tensor([-0.4414], requires_grad=True)]\n",
      "Epoch    0/2000 Cost: 13.103541\n",
      "Epoch  100/2000 Cost: 0.002791\n",
      "Epoch  200/2000 Cost: 0.001724\n",
      "Epoch  300/2000 Cost: 0.001066\n",
      "Epoch  400/2000 Cost: 0.000658\n",
      "Epoch  500/2000 Cost: 0.000407\n",
      "Epoch  600/2000 Cost: 0.000251\n",
      "Epoch  700/2000 Cost: 0.000155\n",
      "Epoch  800/2000 Cost: 0.000096\n",
      "Epoch  900/2000 Cost: 0.000059\n",
      "Epoch 1000/2000 Cost: 0.000037\n",
      "Epoch 1100/2000 Cost: 0.000023\n",
      "Epoch 1200/2000 Cost: 0.000014\n",
      "Epoch 1300/2000 Cost: 0.000009\n",
      "Epoch 1400/2000 Cost: 0.000005\n",
      "Epoch 1500/2000 Cost: 0.000003\n",
      "Epoch 1600/2000 Cost: 0.000002\n",
      "Epoch 1700/2000 Cost: 0.000001\n",
      "Epoch 1800/2000 Cost: 0.000001\n",
      "Epoch 1900/2000 Cost: 0.000000\n"
     ]
    }
   ],
   "source": [
    "x_train = torch.FloatTensor([[1], [2], [3]])\n",
    "y_train = torch.FloatTensor([[2], [4], [6]])\n",
    "\n",
    "# 단순 선형 회귀이므로 input_dim=1, output_dim=1\n",
    "model = nn.Linear(1, 1)\n",
    "\n",
    "# 첫번째 W, 두번째 b. 두값 모두 랜덤 초기화\n",
    "print(list(model.parameters()))\n",
    "\n",
    "# optimizer 설정. \n",
    "optimizer = torch.optim.SGD(model.parameters(), lr=0.01)\n",
    "\n",
    "nb_epochs = 2000\n",
    "for epoch in range(nb_epochs):\n",
    "    # H(x) 계산\n",
    "    prediction = model(x_train)\n",
    "    # cost 계산\n",
    "    cost = F.mse_loss(prediction, y_train) # 평균제곱오차 함수\n",
    "    \n",
    "    optimizer.zero_grad() # gradient 초기화\n",
    "    cost.backward() # 미분\n",
    "    optimizer.step() # W, b update\n",
    "    \n",
    "    if epoch % 100 == 0:\n",
    "        print('Epoch {:4d}/{} Cost: {:.6f}'.format(epoch, nb_epochs, cost.item()))"
   ]
  },
  {
   "cell_type": "code",
   "execution_count": 14,
   "metadata": {},
   "outputs": [
    {
     "name": "stdout",
     "output_type": "stream",
     "text": [
      "훈련 후 입력이 4일 때의 예측값 : tensor([[7.9989]], grad_fn=<AddmmBackward0>)\n"
     ]
    }
   ],
   "source": [
    "# 임의의 값 4를 입력\n",
    "new_var = torch.FloatTensor([[4.0]])\n",
    "# 입력한 값 4에 대해 예측값 y를 리턴받아 pred_y에 저장\n",
    "pred_y = model(new_var) # forward 연산\n",
    "# y = 2x 이므로 입력이 4라면 y가 8에 가까운 값이 나와야 제대로 학습이 된 것\n",
    "print(\"훈련 후 입력이 4일 때의 예측값 :\", pred_y) "
   ]
  },
  {
   "cell_type": "code",
   "execution_count": 15,
   "metadata": {},
   "outputs": [
    {
     "name": "stdout",
     "output_type": "stream",
     "text": [
      "[Parameter containing:\n",
      "tensor([[1.9994]], requires_grad=True), Parameter containing:\n",
      "tensor([0.0014], requires_grad=True)]\n"
     ]
    }
   ],
   "source": [
    "print(list((model.parameters())))"
   ]
  },
  {
   "cell_type": "code",
   "execution_count": 16,
   "metadata": {},
   "outputs": [
    {
     "name": "stdout",
     "output_type": "stream",
     "text": [
      "[Parameter containing:\n",
      "tensor([[-0.1119,  0.2710, -0.5435]], requires_grad=True), Parameter containing:\n",
      "tensor([0.3462], requires_grad=True)]\n",
      "Epoch    0/2000 Cost: 42134.707031\n",
      "Epoch  100/2000 Cost: 5.960053\n",
      "Epoch  200/2000 Cost: 5.654689\n",
      "Epoch  300/2000 Cost: 5.365413\n",
      "Epoch  400/2000 Cost: 5.091413\n",
      "Epoch  500/2000 Cost: 4.831831\n",
      "Epoch  600/2000 Cost: 4.585963\n",
      "Epoch  700/2000 Cost: 4.353061\n",
      "Epoch  800/2000 Cost: 4.132451\n",
      "Epoch  900/2000 Cost: 3.923452\n",
      "Epoch 1000/2000 Cost: 3.725488\n",
      "Epoch 1100/2000 Cost: 3.537961\n",
      "Epoch 1200/2000 Cost: 3.360339\n",
      "Epoch 1300/2000 Cost: 3.192085\n",
      "Epoch 1400/2000 Cost: 3.032697\n",
      "Epoch 1500/2000 Cost: 2.881700\n",
      "Epoch 1600/2000 Cost: 2.738672\n",
      "Epoch 1700/2000 Cost: 2.603207\n",
      "Epoch 1800/2000 Cost: 2.474846\n",
      "Epoch 1900/2000 Cost: 2.353291\n",
      "Epoch 2000/2000 Cost: 2.238137\n"
     ]
    }
   ],
   "source": [
    "# 다중 회귀 구현\n",
    "x_train = torch.FloatTensor([[73, 80, 75],\n",
    "                             [93, 88, 93],\n",
    "                             [89, 91, 90],\n",
    "                             [96, 98, 100],\n",
    "                             [73, 66, 70]])\n",
    "y_train = torch.FloatTensor([[152], [185], [180], [196], [142]])\n",
    "\n",
    "model = nn.Linear(3, 1)\n",
    "print(list(model.parameters()))\n",
    "\n",
    "optimizer = torch.optim.SGD(model.parameters(), lr=1e-5)\n",
    "\n",
    "nb_epochs = 2000\n",
    "for epoch in range(nb_epochs + 1):\n",
    "    prediction = model(x_train)\n",
    "    cost = F.mse_loss(prediction, y_train)\n",
    "    \n",
    "    optimizer.zero_grad()\n",
    "    cost.backward()\n",
    "    optimizer.step()\n",
    "    \n",
    "    if epoch % 100 == 0:\n",
    "        print('Epoch {:4d}/{} Cost: {:.6f}'.format(epoch, nb_epochs, cost.item()))"
   ]
  },
  {
   "cell_type": "code",
   "execution_count": 17,
   "metadata": {},
   "outputs": [
    {
     "name": "stdout",
     "output_type": "stream",
     "text": [
      "훈련 후 입력이 73, 80, 75일 때의 예측값 : tensor([[153.7184]], grad_fn=<AddmmBackward0>)\n"
     ]
    }
   ],
   "source": [
    "# 임의의 입력 [73, 80, 75]를 선언\n",
    "new_var =  torch.FloatTensor([[73, 80, 75]]) \n",
    "# 입력한 값 [73, 80, 75]에 대해서 예측값 y를 리턴받아서 pred_y에 저장\n",
    "pred_y = model(new_var) \n",
    "print(\"훈련 후 입력이 73, 80, 75일 때의 예측값 :\", pred_y) "
   ]
  },
  {
   "cell_type": "code",
   "execution_count": 18,
   "metadata": {},
   "outputs": [
    {
     "name": "stdout",
     "output_type": "stream",
     "text": [
      "[Parameter containing:\n",
      "tensor([[0.8541, 0.8475, 0.3096]], requires_grad=True), Parameter containing:\n",
      "tensor([0.3568], requires_grad=True)]\n"
     ]
    }
   ],
   "source": [
    "print(list(model.parameters()))"
   ]
  },
  {
   "attachments": {},
   "cell_type": "markdown",
   "metadata": {},
   "source": [
    "클래스로 구현"
   ]
  },
  {
   "cell_type": "code",
   "execution_count": 19,
   "metadata": {},
   "outputs": [
    {
     "data": {
      "text/plain": [
       "<torch._C.Generator at 0x7f7e215b02d0>"
      ]
     },
     "execution_count": 19,
     "metadata": {},
     "output_type": "execute_result"
    }
   ],
   "source": [
    "import torch\n",
    "import torch.nn as nn\n",
    "import torch.nn.functional as F\n",
    "\n",
    "torch.manual_seed(1)"
   ]
  },
  {
   "cell_type": "code",
   "execution_count": 20,
   "metadata": {},
   "outputs": [
    {
     "name": "stdout",
     "output_type": "stream",
     "text": [
      "Epoch    0/2000 Cost: 13.103541\n",
      "Epoch  100/2000 Cost: 0.002791\n",
      "Epoch  200/2000 Cost: 0.001724\n",
      "Epoch  300/2000 Cost: 0.001066\n",
      "Epoch  400/2000 Cost: 0.000658\n",
      "Epoch  500/2000 Cost: 0.000407\n",
      "Epoch  600/2000 Cost: 0.000251\n",
      "Epoch  700/2000 Cost: 0.000155\n",
      "Epoch  800/2000 Cost: 0.000096\n",
      "Epoch  900/2000 Cost: 0.000059\n",
      "Epoch 1000/2000 Cost: 0.000037\n",
      "Epoch 1100/2000 Cost: 0.000023\n",
      "Epoch 1200/2000 Cost: 0.000014\n",
      "Epoch 1300/2000 Cost: 0.000009\n",
      "Epoch 1400/2000 Cost: 0.000005\n",
      "Epoch 1500/2000 Cost: 0.000003\n",
      "Epoch 1600/2000 Cost: 0.000002\n",
      "Epoch 1700/2000 Cost: 0.000001\n",
      "Epoch 1800/2000 Cost: 0.000001\n",
      "Epoch 1900/2000 Cost: 0.000000\n",
      "Epoch 2000/2000 Cost: 0.000000\n"
     ]
    }
   ],
   "source": [
    "x_train = torch.FloatTensor([[1], [2], [3]])\n",
    "y_train = torch.FloatTensor([[2], [4], [6]])\n",
    "\n",
    "class LinearRegressionModel(nn.Module):\n",
    "    def __init__(self):\n",
    "        super().__init__()\n",
    "        self.linear = nn.Linear(1, 1)\n",
    "    def forward(self, x):\n",
    "        \"\"\"forward 연산\"\"\"\n",
    "        return self.linear(x)\n",
    "\n",
    "model = LinearRegressionModel()\n",
    "optimizer = torch.optim.SGD(model.parameters(), lr=0.01)\n",
    "nb_epochs = 2000\n",
    "for epoch in range(nb_epochs+1):\n",
    "    prediction = model(x_train)\n",
    "    cost = F.mse_loss(prediction, y_train)\n",
    "    \n",
    "    optimizer.zero_grad()\n",
    "    cost.backward()\n",
    "    optimizer.step()\n",
    "    \n",
    "    if epoch % 100 == 0:\n",
    "        print('Epoch {:4d}/{} Cost: {:.6f}'.format(epoch, nb_epochs, cost.item()))"
   ]
  },
  {
   "cell_type": "code",
   "execution_count": 21,
   "metadata": {},
   "outputs": [
    {
     "name": "stdout",
     "output_type": "stream",
     "text": [
      "Epoch    0/2000 Cost: 42134.707031\n",
      "Epoch  100/2000 Cost: 5.960053\n",
      "Epoch  200/2000 Cost: 5.654689\n",
      "Epoch  300/2000 Cost: 5.365413\n",
      "Epoch  400/2000 Cost: 5.091413\n",
      "Epoch  500/2000 Cost: 4.831831\n",
      "Epoch  600/2000 Cost: 4.585963\n",
      "Epoch  700/2000 Cost: 4.353061\n",
      "Epoch  800/2000 Cost: 4.132451\n",
      "Epoch  900/2000 Cost: 3.923452\n",
      "Epoch 1000/2000 Cost: 3.725488\n",
      "Epoch 1100/2000 Cost: 3.537961\n",
      "Epoch 1200/2000 Cost: 3.360339\n",
      "Epoch 1300/2000 Cost: 3.192085\n",
      "Epoch 1400/2000 Cost: 3.032697\n",
      "Epoch 1500/2000 Cost: 2.881700\n",
      "Epoch 1600/2000 Cost: 2.738672\n",
      "Epoch 1700/2000 Cost: 2.603207\n",
      "Epoch 1800/2000 Cost: 2.474846\n",
      "Epoch 1900/2000 Cost: 2.353291\n",
      "Epoch 2000/2000 Cost: 2.238137\n"
     ]
    }
   ],
   "source": [
    "x_train = torch.FloatTensor([[73, 80, 75],\n",
    "                             [93, 88, 93],\n",
    "                             [89, 91, 90],\n",
    "                             [96, 98, 100],\n",
    "                             [73, 66, 70]])\n",
    "y_train = torch.FloatTensor([[152], [185], [180], [196], [142]])\n",
    "\n",
    "class MultivariateLinearRegressionModel(nn.Module):\n",
    "    def __init__(self):\n",
    "        super().__init__()\n",
    "        # 다중 선형 회귀이므로 input_dim=3, output_dim=1.\n",
    "        self.linear = nn.Linear(3, 1)\n",
    "\n",
    "    def forward(self, x):\n",
    "        return self.linear(x)\n",
    "    \n",
    "model = MultivariateLinearRegressionModel()\n",
    "optimizer = torch.optim.SGD(model.parameters(), lr=1e-5)\n",
    "nb_epochs = 2000\n",
    "for epoch in range(nb_epochs+1):\n",
    "    prediction = model(x_train)\n",
    "    cost = F.mse_loss(prediction, y_train)\n",
    "    \n",
    "    optimizer.zero_grad()\n",
    "    cost.backward()\n",
    "    optimizer.step()\n",
    "    \n",
    "    if epoch % 100 == 0:\n",
    "        print('Epoch {:4d}/{} Cost: {:.6f}'.format(epoch, nb_epochs, cost.item()))"
   ]
  },
  {
   "attachments": {
    "image.png": {
     "image/png": "[encoded data removed]"
    }
   },
   "cell_type": "markdown",
   "metadata": {},
   "source": [
    "미니 배치와 데이터 로드  \n",
    "![image.png](attachment:image.png)  \n",
    "- 에포크(Epoch) : 전체 훈련 데이터가 학습에 한번 사용된 주기\n",
    "- 배치 크기(batch size)\n",
    "    - 미니 배치의 개수만큼 경사하강법을 수행해야 전체 데이터가 한 번 전부 사용됨\n",
    "    - 미니 배치의 개수는 결국 미니 배치의 크기를 몇으로 하느냐에 따라 달라짐\n",
    "    - 전체 데이터에 대해 한번에 경사 하강법을 수행하는 방법 : 배치 경사 하강법\n",
    "        - 전체 데이터를 사용하므로 가중치 값이 최적값에 수렴하는 과정이 안정적\n",
    "    - 미니 배치 단위로 경사 하강법을 수행하는 방법 : 미니 배치 경사 하강법\n",
    "        - 전체 데이터의 일부만을 보고 수행하므로 최적값으로 수렴하는 과정에서 조금 헤매기도 하지만 훈련 속도가 빠름\n",
    "- 배치 크기는 보통 2의 제곱수를 사용. 그 이유는 CPU와 GPU의 메모리가 2의 배수이므로"
   ]
  },
  {
   "attachments": {
    "image.png": {
     "image/png": "[encoded data removed]"
    }
   },
   "cell_type": "markdown",
   "metadata": {},
   "source": [
    "이터레이션  \n",
    "![image.png](attachment:image.png)  \n",
    "한번의 에포크 내에서 이뤄지는 가중치 W와 b의 업데이트 횟수"
   ]
  },
  {
   "cell_type": "code",
   "execution_count": 22,
   "metadata": {},
   "outputs": [],
   "source": [
    "import torch\n",
    "import torch.nn\n",
    "import torch.nn.functional as F\n",
    "\n",
    "from torch.utils.data import TensorDataset\n",
    "from torch.utils.data import DataLoader"
   ]
  },
  {
   "cell_type": "code",
   "execution_count": 23,
   "metadata": {},
   "outputs": [],
   "source": [
    "x_train = torch.FloatTensor([[73, 80, 75],\n",
    "                             [93, 88, 93],\n",
    "                             [89, 91, 90],\n",
    "                             [96, 98, 100],\n",
    "                             [73, 66, 70]])\n",
    "y_train = torch.FloatTensor([[152], [185], [180], [196], [142]])\n",
    "\n",
    "dataset = TensorDataset(x_train, y_train)"
   ]
  },
  {
   "cell_type": "code",
   "execution_count": 24,
   "metadata": {},
   "outputs": [],
   "source": [
    "# shuffle=True를 선택하면 Epoch마다 데이터셋을 섞어서 데이터가 학습되는 순서를 바꿉니다.\n",
    "dataloader = DataLoader(dataset, batch_size=2, shuffle=True)"
   ]
  },
  {
   "cell_type": "code",
   "execution_count": 25,
   "metadata": {},
   "outputs": [],
   "source": [
    "model = nn.Linear(3, 1)\n",
    "optimizer = torch.optim.SGD(model.parameters(), lr=1e-5)"
   ]
  },
  {
   "cell_type": "code",
   "execution_count": 26,
   "metadata": {},
   "outputs": [
    {
     "name": "stdout",
     "output_type": "stream",
     "text": [
      "Epoch    0/20 Batch 1/3 Cost: 26838.554688\n",
      "Epoch    0/20 Batch 2/3 Cost: 4949.356934\n",
      "Epoch    0/20 Batch 3/3 Cost: 1217.417969\n",
      "Epoch    1/20 Batch 1/3 Cost: 874.722717\n",
      "Epoch    1/20 Batch 2/3 Cost: 256.657043\n",
      "Epoch    1/20 Batch 3/3 Cost: 24.682867\n",
      "Epoch    2/20 Batch 1/3 Cost: 45.678944\n",
      "Epoch    2/20 Batch 2/3 Cost: 5.590558\n",
      "Epoch    2/20 Batch 3/3 Cost: 27.639778\n",
      "Epoch    3/20 Batch 1/3 Cost: 8.685300\n",
      "Epoch    3/20 Batch 2/3 Cost: 3.939066\n",
      "Epoch    3/20 Batch 3/3 Cost: 2.802620\n",
      "Epoch    4/20 Batch 1/3 Cost: 6.150103\n",
      "Epoch    4/20 Batch 2/3 Cost: 7.124768\n",
      "Epoch    4/20 Batch 3/3 Cost: 2.149211\n",
      "Epoch    5/20 Batch 1/3 Cost: 1.789171\n",
      "Epoch    5/20 Batch 2/3 Cost: 15.624266\n",
      "Epoch    5/20 Batch 3/3 Cost: 3.540388\n",
      "Epoch    6/20 Batch 1/3 Cost: 5.700332\n",
      "Epoch    6/20 Batch 2/3 Cost: 6.880760\n",
      "Epoch    6/20 Batch 3/3 Cost: 2.429880\n",
      "Epoch    7/20 Batch 1/3 Cost: 7.628876\n",
      "Epoch    7/20 Batch 2/3 Cost: 3.857748\n",
      "Epoch    7/20 Batch 3/3 Cost: 5.840155\n",
      "Epoch    8/20 Batch 1/3 Cost: 5.205458\n",
      "Epoch    8/20 Batch 2/3 Cost: 2.935290\n",
      "Epoch    8/20 Batch 3/3 Cost: 16.427006\n",
      "Epoch    9/20 Batch 1/3 Cost: 3.824505\n",
      "Epoch    9/20 Batch 2/3 Cost: 6.187510\n",
      "Epoch    9/20 Batch 3/3 Cost: 7.496263\n",
      "Epoch   10/20 Batch 1/3 Cost: 4.572945\n",
      "Epoch   10/20 Batch 2/3 Cost: 6.737031\n",
      "Epoch   10/20 Batch 3/3 Cost: 5.895672\n",
      "Epoch   11/20 Batch 1/3 Cost: 1.443226\n",
      "Epoch   11/20 Batch 2/3 Cost: 9.311169\n",
      "Epoch   11/20 Batch 3/3 Cost: 8.005629\n",
      "Epoch   12/20 Batch 1/3 Cost: 6.552180\n",
      "Epoch   12/20 Batch 2/3 Cost: 3.549880\n",
      "Epoch   12/20 Batch 3/3 Cost: 7.657715\n",
      "Epoch   13/20 Batch 1/3 Cost: 7.357927\n",
      "Epoch   13/20 Batch 2/3 Cost: 3.529320\n",
      "Epoch   13/20 Batch 3/3 Cost: 10.374599\n",
      "Epoch   14/20 Batch 1/3 Cost: 3.878338\n",
      "Epoch   14/20 Batch 2/3 Cost: 5.393184\n",
      "Epoch   14/20 Batch 3/3 Cost: 13.809702\n",
      "Epoch   15/20 Batch 1/3 Cost: 5.501532\n",
      "Epoch   15/20 Batch 2/3 Cost: 4.437713\n",
      "Epoch   15/20 Batch 3/3 Cost: 13.423565\n",
      "Epoch   16/20 Batch 1/3 Cost: 4.113708\n",
      "Epoch   16/20 Batch 2/3 Cost: 6.071901\n",
      "Epoch   16/20 Batch 3/3 Cost: 7.803999\n",
      "Epoch   17/20 Batch 1/3 Cost: 2.076509\n",
      "Epoch   17/20 Batch 2/3 Cost: 14.499167\n",
      "Epoch   17/20 Batch 3/3 Cost: 4.352218\n",
      "Epoch   18/20 Batch 1/3 Cost: 7.422428\n",
      "Epoch   18/20 Batch 2/3 Cost: 3.180331\n",
      "Epoch   18/20 Batch 3/3 Cost: 10.140516\n",
      "Epoch   19/20 Batch 1/3 Cost: 5.294771\n",
      "Epoch   19/20 Batch 2/3 Cost: 6.063771\n",
      "Epoch   19/20 Batch 3/3 Cost: 4.648559\n",
      "Epoch   20/20 Batch 1/3 Cost: 7.303863\n",
      "Epoch   20/20 Batch 2/3 Cost: 3.836170\n",
      "Epoch   20/20 Batch 3/3 Cost: 5.569603\n"
     ]
    }
   ],
   "source": [
    "nb_epochs = 20\n",
    "for epoch in range(nb_epochs + 1):\n",
    "    for batch_idx, samples in enumerate(dataloader):\n",
    "        # print(batch_idx)\n",
    "        # print(samples)\n",
    "        x_train, y_train = samples\n",
    "        # H(x) 계산\n",
    "        prediction = model(x_train)\n",
    "\n",
    "        # cost 계산\n",
    "        cost = F.mse_loss(prediction, y_train)\n",
    "\n",
    "        # cost로 H(x) 계산\n",
    "        optimizer.zero_grad()\n",
    "        cost.backward()\n",
    "        optimizer.step()\n",
    "\n",
    "        print('Epoch {:4d}/{} Batch {}/{} Cost: {:.6f}'.format(\n",
    "            epoch, nb_epochs, batch_idx+1, len(dataloader), cost.item()))"
   ]
  },
  {
   "cell_type": "code",
   "execution_count": 27,
   "metadata": {},
   "outputs": [
    {
     "name": "stdout",
     "output_type": "stream",
     "text": [
      "훈련 후 입력이 73, 80, 75일 때 예측: tensor([[153.5408]], grad_fn=<AddmmBackward0>)\n"
     ]
    }
   ],
   "source": [
    "new_var = torch.FloatTensor([[73, 80, 75]])\n",
    "pred_y = model(new_var)\n",
    "print('훈련 후 입력이 73, 80, 75일 때 예측:', pred_y)"
   ]
  },
  {
   "attachments": {},
   "cell_type": "markdown",
   "metadata": {},
   "source": [
    "커스텀 데이터셋(Custom Dataset)"
   ]
  },
  {
   "cell_type": "code",
   "execution_count": 28,
   "metadata": {},
   "outputs": [],
   "source": [
    "# 커스텀 데이터 셋 뼈대\n",
    "class CustomDataset(torch.utils.data.Dataset):\n",
    "    def __init__(self):\n",
    "        \"\"\"데이터 셋의 전처리를 해주는 부분\"\"\"\n",
    "    def __len__(self):\n",
    "        \"\"\"데이터 셋의 길이. 총 샘플의 수\n",
    "           len(dataset)을 했을 때 데이터셋의 크기를 리턴\n",
    "        \"\"\"\n",
    "    def __getitem__(self, idx):\n",
    "        \"\"\"데이터 셋에서 특정 1개의 샘플을 가져오는 부분\n",
    "           dataset[i]을 했을 때 i번째 샘플을 가져오도록 하는 인덱싱\n",
    "        \"\"\""
   ]
  },
  {
   "cell_type": "code",
   "execution_count": 29,
   "metadata": {},
   "outputs": [
    {
     "name": "stdout",
     "output_type": "stream",
     "text": [
      "Epoch    0/20 Batch 1/3 Cost: 54524.218750\n",
      "Epoch    0/20 Batch 2/3 Cost: 8945.384766\n",
      "Epoch    0/20 Batch 3/3 Cost: 2403.548828\n",
      "Epoch    1/20 Batch 1/3 Cost: 1564.037354\n",
      "Epoch    1/20 Batch 2/3 Cost: 550.309875\n",
      "Epoch    1/20 Batch 3/3 Cost: 128.874252\n",
      "Epoch    2/20 Batch 1/3 Cost: 35.747013\n",
      "Epoch    2/20 Batch 2/3 Cost: 24.368717\n",
      "Epoch    2/20 Batch 3/3 Cost: 13.028359\n",
      "Epoch    3/20 Batch 1/3 Cost: 0.577794\n",
      "Epoch    3/20 Batch 2/3 Cost: 5.028281\n",
      "Epoch    3/20 Batch 3/3 Cost: 1.949444\n",
      "Epoch    4/20 Batch 1/3 Cost: 2.790054\n",
      "Epoch    4/20 Batch 2/3 Cost: 4.539859\n",
      "Epoch    4/20 Batch 3/3 Cost: 1.471622\n",
      "Epoch    5/20 Batch 1/3 Cost: 0.735318\n",
      "Epoch    5/20 Batch 2/3 Cost: 2.351956\n",
      "Epoch    5/20 Batch 3/3 Cost: 7.989922\n",
      "Epoch    6/20 Batch 1/3 Cost: 2.292079\n",
      "Epoch    6/20 Batch 2/3 Cost: 3.429396\n",
      "Epoch    6/20 Batch 3/3 Cost: 0.660007\n",
      "Epoch    7/20 Batch 1/3 Cost: 1.045065\n",
      "Epoch    7/20 Batch 2/3 Cost: 4.478187\n",
      "Epoch    7/20 Batch 3/3 Cost: 0.089189\n",
      "Epoch    8/20 Batch 1/3 Cost: 0.152518\n",
      "Epoch    8/20 Batch 2/3 Cost: 4.536362\n",
      "Epoch    8/20 Batch 3/3 Cost: 1.777479\n",
      "Epoch    9/20 Batch 1/3 Cost: 2.310009\n",
      "Epoch    9/20 Batch 2/3 Cost: 4.838332\n",
      "Epoch    9/20 Batch 3/3 Cost: 0.447243\n",
      "Epoch   10/20 Batch 1/3 Cost: 1.091359\n",
      "Epoch   10/20 Batch 2/3 Cost: 6.368413\n",
      "Epoch   10/20 Batch 3/3 Cost: 0.283574\n",
      "Epoch   11/20 Batch 1/3 Cost: 3.047754\n",
      "Epoch   11/20 Batch 2/3 Cost: 2.587975\n",
      "Epoch   11/20 Batch 3/3 Cost: 0.074560\n",
      "Epoch   12/20 Batch 1/3 Cost: 4.470545\n",
      "Epoch   12/20 Batch 2/3 Cost: 0.923764\n",
      "Epoch   12/20 Batch 3/3 Cost: 0.132706\n",
      "Epoch   13/20 Batch 1/3 Cost: 1.450770\n",
      "Epoch   13/20 Batch 2/3 Cost: 4.055173\n",
      "Epoch   13/20 Batch 3/3 Cost: 1.431692\n",
      "Epoch   14/20 Batch 1/3 Cost: 3.468175\n",
      "Epoch   14/20 Batch 2/3 Cost: 3.627177\n",
      "Epoch   14/20 Batch 3/3 Cost: 1.006021\n",
      "Epoch   15/20 Batch 1/3 Cost: 2.649999\n",
      "Epoch   15/20 Batch 2/3 Cost: 0.482014\n",
      "Epoch   15/20 Batch 3/3 Cost: 5.925796\n",
      "Epoch   16/20 Batch 1/3 Cost: 1.667954\n",
      "Epoch   16/20 Batch 2/3 Cost: 3.310733\n",
      "Epoch   16/20 Batch 3/3 Cost: 4.122568\n",
      "Epoch   17/20 Batch 1/3 Cost: 4.719289\n",
      "Epoch   17/20 Batch 2/3 Cost: 2.107971\n",
      "Epoch   17/20 Batch 3/3 Cost: 0.143212\n",
      "Epoch   18/20 Batch 1/3 Cost: 5.055257\n",
      "Epoch   18/20 Batch 2/3 Cost: 0.843501\n",
      "Epoch   18/20 Batch 3/3 Cost: 3.317149\n",
      "Epoch   19/20 Batch 1/3 Cost: 5.118366\n",
      "Epoch   19/20 Batch 2/3 Cost: 1.420750\n",
      "Epoch   19/20 Batch 3/3 Cost: 0.311976\n",
      "Epoch   20/20 Batch 1/3 Cost: 4.522241\n",
      "Epoch   20/20 Batch 2/3 Cost: 1.014165\n",
      "Epoch   20/20 Batch 3/3 Cost: 0.091242\n"
     ]
    }
   ],
   "source": [
    "# 커스텀 데이터셋으로 선형 회귀 구현\n",
    "import torch\n",
    "import torch.nn.functional as F\n",
    "\n",
    "from torch.utils.data import Dataset\n",
    "from torch.utils.data import DataLoader\n",
    "\n",
    "# Dataset 상속\n",
    "class CustomDataset(Dataset):\n",
    "    def __init__(self):\n",
    "        self.x_data = [[73, 80, 75],\n",
    "                   [93, 88, 93],\n",
    "                   [89, 91, 90],\n",
    "                   [96, 98, 100],\n",
    "                   [73, 66, 70]]\n",
    "        self.y_data = [[152], [185], [180], [196], [142]]\n",
    "    \n",
    "    def __len__(self):\n",
    "        \"\"\"총 데이터의 개수 리턴\"\"\"\n",
    "        return len(self.x_data)\n",
    "\n",
    "    def __getitem__(self, idx):\n",
    "        \"\"\"인덱스를 입력받아 맵핑되는 입출력 데이터를 파이토치의 텐서 형태로 리턴\"\"\"\n",
    "        x = torch.FloatTensor(self.x_data[idx])\n",
    "        y = torch.FloatTensor(self.y_data[idx])\n",
    "        return x, y\n",
    "\n",
    "dataset = CustomDataset()\n",
    "dataloader = DataLoader(dataset, batch_size=2, shuffle=True)\n",
    "\n",
    "model = torch.nn.Linear(3, 1)\n",
    "optimizer = torch.optim.SGD(model.parameters(), lr=1e-5)\n",
    "\n",
    "nb_epochs = 20\n",
    "for epoch in range(nb_epochs + 1):\n",
    "    for batch_idx, samples in enumerate(dataloader):\n",
    "        x_train, y_train = samples\n",
    "        prediction = model(x_train)\n",
    "        cost = F.mse_loss(prediction, y_train)\n",
    "        \n",
    "        optimizer.zero_grad()\n",
    "        cost.backward()\n",
    "        optimizer.step()\n",
    "        \n",
    "        print('Epoch {:4d}/{} Batch {}/{} Cost: {:.6f}'.format(\n",
    "            epoch, nb_epochs, batch_idx+1, len(dataloader), cost.item()))"
   ]
  },
  {
   "cell_type": "code",
   "execution_count": 30,
   "metadata": {},
   "outputs": [
    {
     "name": "stdout",
     "output_type": "stream",
     "text": [
      "훈련 후 입력이 73, 80, 75일 때의 예측값 : tensor([[152.1972]], grad_fn=<AddmmBackward0>)\n"
     ]
    }
   ],
   "source": [
    "# 임의의 입력 [73, 80, 75]를 선언\n",
    "new_var =  torch.FloatTensor([[73, 80, 75]]) \n",
    "# 입력한 값 [73, 80, 75]에 대해서 예측값 y를 리턴받아서 pred_y에 저장\n",
    "pred_y = model(new_var) \n",
    "print(\"훈련 후 입력이 73, 80, 75일 때의 예측값 :\", pred_y) "
   ]
  }
 ],
 "metadata": {
  "kernelspec": {
   "display_name": "base",
   "language": "python",
   "name": "python3"
  },
  "language_info": {
   "codemirror_mode": {
    "name": "ipython",
    "version": 3
   },
   "file_extension": ".py",
   "mimetype": "text/x-python",
   "name": "python",
   "nbconvert_exporter": "python",
   "pygments_lexer": "ipython3",
   "version": "3.9.12"
  },
  "vscode": {
   "interpreter": {
    "hash": "d4d1e4263499bec80672ea0156c357c1ee493ec2b1c70f0acce89fc37c4a6abe"
   }
  }
 },
 "nbformat": 4,
 "nbformat_minor": 4
}
