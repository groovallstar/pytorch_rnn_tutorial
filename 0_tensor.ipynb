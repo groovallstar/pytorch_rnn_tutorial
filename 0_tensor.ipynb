{
 "cells": [
  {
   "attachments": {},
   "cell_type": "markdown",
   "metadata": {},
   "source": [
    "- 2D Tensor(Typical Simple Setting)\n",
    "    - |t| = (Batch size, dim)\n",
    "    - 행의 크기가 batch size, 열의 크기가 dim이라는 의미\n",
    "- 3D Tensor(Typical Computer Vision) \n",
    "    - 비전 분야에서의 3차원 텐서\n",
    "    - |t| = (batch size, width, height)\n",
    "    - (batch size, 가로는 너비(width), 높이(height))\n",
    "- 3D Tensor(Typical Natural Language Processing) \n",
    "    - NLP 분야에서의 3차원 텐서\n",
    "    - |t| = (batch size, length, dim)\n",
    "    - (batch size, 문장 길이, 단어 벡터의 차원)"
   ]
  },
  {
   "attachments": {},
   "cell_type": "markdown",
   "metadata": {},
   "source": [
    "전체 훈련 데이터 : [[나는 사과를 좋아해], [나는 바나나를 좋아해], [나는 사과를 싫어해], [나는 바나나를 싫어해]]  \n",
    "4 x 3 2d tensor  \n",
    "'나는' = [0.1, 0.2, 0.9]  \n",
    "'사과를' = [0.3, 0.5, 0.1]  \n",
    "'바나나를' = [0.3, 0.5, 0.2]  \n",
    "'좋아해' = [0.7, 0.6, 0.5]  \n",
    "'싫어해' = [0.5, 0.6, 0.7]  \n",
    "-> 훈련데이터로 변경(4 x 3 x 3 의 3d tensor)  \n",
    "[[[0.1, 0.2, 0.9], [0.3, 0.5, 0.1], [0.7, 0.6, 0.5]],  \n",
    " [[0.1, 0.2, 0.9], [0.3, 0.5, 0.2], [0.7, 0.6, 0.5]],  \n",
    " [[0.1, 0.2, 0.9], [0.3, 0.5, 0.1], [0.5, 0.6, 0.7]],  \n",
    " [[0.1, 0.2, 0.9], [0.3, 0.5, 0.2], [0.5, 0.6, 0.7]]]  \n",
    "-> batch size 2  \n",
    "첫번째 배치 #1  \n",
    "[[[0.1, 0.2, 0.9], [0.3, 0.5, 0.1], [0.7, 0.6, 0.5]],  \n",
    " [[0.1, 0.2, 0.9], [0.3, 0.5, 0.2], [0.7, 0.6, 0.5]]]  \n",
    "\n",
    "두번째 배치 #2  \n",
    "[[[0.1, 0.2, 0.9], [0.3, 0.5, 0.1], [0.5, 0.6, 0.7]],  \n",
    " [[0.1, 0.2, 0.9], [0.3, 0.5, 0.2], [0.5, 0.6, 0.7]]]  "
   ]
  },
  {
   "cell_type": "code",
   "execution_count": 4,
   "metadata": {},
   "outputs": [
    {
     "name": "stdout",
     "output_type": "stream",
     "text": [
      "[0. 1. 2. 3. 4. 5. 6.]\n",
      "rank of t: 1\n",
      "shape of t: (7,)\n",
      "[[ 1.  2.  3.]\n",
      " [ 4.  5.  6.]\n",
      " [ 7.  8.  9.]\n",
      " [10. 11. 12.]]\n",
      "rank of t: 2\n",
      "shape of t: (4, 3)\n"
     ]
    }
   ],
   "source": [
    "import numpy as np\n",
    "\n",
    "# 1d with numpy\n",
    "t = np.array([0., 1., 2., 3., 4., 5., 6.])\n",
    "print(t)\n",
    "print('rank of t:', t.ndim)   # 차원\n",
    "print('shape of t:', t.shape) # 크기\n",
    "\n",
    "# 2d with numpy\n",
    "t = np.array([[1., 2., 3.], [4., 5., 6.], [7., 8., 9.], [10., 11., 12.]])\n",
    "print(t)\n",
    "print('rank of t:', t.ndim)   # 차원\n",
    "print('shape of t:', t.shape) # 크기\n"
   ]
  },
  {
   "cell_type": "code",
   "execution_count": 19,
   "metadata": {},
   "outputs": [
    {
     "name": "stdout",
     "output_type": "stream",
     "text": [
      "tensor([0., 1., 2., 3., 4., 5., 6.])\n",
      "1\n",
      "torch.Size([7])\n",
      "torch.Size([7])\n",
      "tensor(0.) tensor(1.) tensor(6.)\n",
      "tensor([2., 3., 4.]) tensor([4., 5.])\n",
      "tensor([0., 1.]) tensor([3., 4., 5., 6.])\n",
      "tensor([[ 1.,  2.,  3.],\n",
      "        [ 4.,  5.,  6.],\n",
      "        [ 7.,  8.,  9.],\n",
      "        [10., 11., 12.]])\n",
      "2\n",
      "torch.Size([4, 3])\n",
      "tensor([ 2.,  5.,  8., 11.])\n",
      "torch.Size([4])\n",
      "tensor([[ 1.,  2.],\n",
      "        [ 4.,  5.],\n",
      "        [ 7.,  8.],\n",
      "        [10., 11.]])\n"
     ]
    }
   ],
   "source": [
    "import torch\n",
    "\n",
    "# 1d with pytorch\n",
    "t = torch.FloatTensor([0., 1., 2., 3., 4., 5., 6.])\n",
    "print(t)\n",
    "print(t.dim())  # 차원\n",
    "print(t.shape)  # 크기\n",
    "print(t.size()) # 크기\n",
    "\n",
    "print(t[0], t[1], t[-1])  # 인덱스로 접근\n",
    "print(t[2:5], t[4:-1])    # slicing\n",
    "print(t[:2], t[3:])       # slicing\n",
    "\n",
    "# 2d with pytorch\n",
    "t = torch.FloatTensor([[1., 2., 3.],\n",
    "                       [4., 5., 6.],\n",
    "                       [7., 8., 9.],\n",
    "                       [10., 11., 12.]])\n",
    "print(t)\n",
    "print(t.dim())  # 차원\n",
    "print(t.size()) # shape\n",
    "print(t[:, 1]) # 첫번째 차원 선택 후 두번째 차원의 첫번째 것만 가져옴 (1차원)\n",
    "print(t[:, 1].size()) # 위의 경우의 크기\n",
    "\n",
    "print(t[:, :-1]) # 첫번째 차원 선택 후 두번째 차원의 마지막을 제외하고 가져옴"
   ]
  },
  {
   "cell_type": "code",
   "execution_count": 21,
   "metadata": {},
   "outputs": [
    {
     "name": "stdout",
     "output_type": "stream",
     "text": [
      "tensor([[5., 5.]])\n",
      "tensor([[4., 5.]])\n",
      "tensor([[4., 5.],\n",
      "        [5., 6.]])\n"
     ]
    }
   ],
   "source": [
    "# broadcasting\n",
    "m1 = torch.FloatTensor([[3, 3]])\n",
    "m2 = torch.FloatTensor([[2, 2]])\n",
    "print(m1 + m2)\n",
    "\n",
    "# vector + scalar\n",
    "m1 = torch.FloatTensor([[1, 2]])\n",
    "m2 = torch.FloatTensor([3]) # [3] -> [3, 3]\n",
    "print(m1 + m2)\n",
    "\n",
    "# 2 x 1 vector + 1 x 2 vector\n",
    "m1 = torch.FloatTensor([[1, 2]])\n",
    "m2 = torch.FloatTensor([[3], [4]])\n",
    "print(m1 + m2)"
   ]
  },
  {
   "cell_type": "code",
   "execution_count": 24,
   "metadata": {},
   "outputs": [
    {
     "name": "stdout",
     "output_type": "stream",
     "text": [
      "Shape of Matrix 1:  torch.Size([2, 2])\n",
      "Shape of Matrix 2:  torch.Size([2, 1])\n",
      "tensor([[ 5.],\n",
      "        [11.]])\n",
      "Shape of Matrix 1:  torch.Size([2, 2])\n",
      "Shape of Matrix 2:  torch.Size([2, 1])\n",
      "tensor([[1., 2.],\n",
      "        [6., 8.]])\n",
      "tensor([[1., 2.],\n",
      "        [6., 8.]])\n"
     ]
    }
   ],
   "source": [
    "# 행렬 곱\n",
    "m1 = torch.FloatTensor([[1, 2],\n",
    "                        [3, 4]])\n",
    "m2 = torch.FloatTensor([[1],\n",
    "                        [2]])\n",
    "print('Shape of Matrix 1: ', m1.shape) # 2 x 2\n",
    "print('Shape of Matrix 2: ', m2.shape) # 2 x 1\n",
    "print(m1.matmul(m2)) # [[1*1+2*2], [3*1+4*2]] (2 x 1)\n",
    "\n",
    "# 원소 곱\n",
    "m1 = torch.FloatTensor([[1, 2],\n",
    "                        [3, 4]])\n",
    "m2 = torch.FloatTensor([[1],\n",
    "                        [2]])\n",
    "print('Shape of Matrix 1: ', m1.shape) # 2 x 2\n",
    "print('Shape of Matrix 2: ', m2.shape) # 2 x 1\n",
    "print(m1 * m2) # 2 x 2\n",
    "print(m1.mul(m2))"
   ]
  },
  {
   "cell_type": "code",
   "execution_count": 28,
   "metadata": {},
   "outputs": [
    {
     "name": "stdout",
     "output_type": "stream",
     "text": [
      "tensor(1.5000)\n",
      "tensor(1.5000)\n",
      "tensor(2.5000)\n",
      "tensor([2., 3.])\n",
      "tensor([1.5000, 3.5000])\n",
      "tensor([1.5000, 3.5000])\n"
     ]
    }
   ],
   "source": [
    "# 평균\n",
    "t = torch.FloatTensor([1, 2])\n",
    "print(t.mean())\n",
    "# dim=0이라는 것은 첫번째 차원을 의미함. 행렬에서 첫번째 차원은 행을 의미함\n",
    "# parameter dim = 해당 차원을 축소함. 해당 차원을 제거하여 행렬에서 열만 남기겠다는 의미\n",
    "print(t.mean(dim=0))\n",
    "\n",
    "t = torch.FloatTensor([[1, 2],\n",
    "                       [3, 4]])\n",
    "\n",
    "# 1, 2, 3, 4 의 평균\n",
    "print(t.mean())\n",
    "\n",
    "# 기존 행렬이 (2, 2)였지만 이를 수행하면 행이 축소 되고 열의 차원만 보존되면서 \n",
    "# (1, 2)가 됨. 이것은 (2,)와 같으며 백터 값임\n",
    "# [1과3의 평균 = 2, 2와 4의 평균 = 3]\n",
    "print(t.mean(dim=0))\n",
    "\n",
    "# 두번째 차원을 제거하여 열이 축소된 텐서. (2, 2) 에서 (2, 1)의 크기가 됨\n",
    "# (2, 1)도 1차원이므로 (1, 2)로 출력됨\n",
    "# [1과 2의 평균 = 1.5,\n",
    "#  2와 4의 평균 = 3.5]\n",
    "# [1.5, \n",
    "#  3.5]\n",
    "print(t.mean(dim=1))\n",
    "\n",
    "# -1 은 마지막 차원 제거. 열의 차원 제거와 같음\n",
    "print(t.mean(dim=-1))"
   ]
  },
  {
   "cell_type": "code",
   "execution_count": 45,
   "metadata": {},
   "outputs": [
    {
     "name": "stdout",
     "output_type": "stream",
     "text": [
      "torch.Size([3, 2])\n",
      "tensor([4., 5.])\n",
      "tensor([1.5000, 4.5000, 7.5000])\n"
     ]
    }
   ],
   "source": [
    "t = torch.FloatTensor([[1, 2],\n",
    "                       [4, 5],\n",
    "                       [7, 8]])\n",
    "\n",
    "print(t.shape)\n",
    "print(t.mean(dim=0)) # 4, 5\n",
    "print(t.mean(dim=1)) # 1.5, 4.5, 7.5"
   ]
  },
  {
   "cell_type": "code",
   "execution_count": 46,
   "metadata": {},
   "outputs": [
    {
     "name": "stdout",
     "output_type": "stream",
     "text": [
      "tensor([[1., 2.],\n",
      "        [3., 4.]])\n",
      "tensor(10.)\n",
      "tensor([4., 6.])\n",
      "tensor([3., 7.])\n",
      "tensor([3., 7.])\n"
     ]
    }
   ],
   "source": [
    "# 덧셈\n",
    "t = torch.FloatTensor([[1, 2],\n",
    "                       [3, 4]])\n",
    "print(t)\n",
    "\n",
    "print(t.sum()) # 원소 전체 덧셈\n",
    "print(t.sum(dim=0)) # 행 축소\n",
    "print(t.sum(dim=1)) # 열 축소\n",
    "print(t.sum(dim=-1)) # 열 축소"
   ]
  },
  {
   "cell_type": "code",
   "execution_count": 52,
   "metadata": {},
   "outputs": [
    {
     "name": "stdout",
     "output_type": "stream",
     "text": [
      "tensor([[1., 2.],\n",
      "        [3., 4.]])\n",
      "tensor(4.)\n",
      "torch.return_types.max(\n",
      "values=tensor([3., 4.]),\n",
      "indices=tensor([1, 1]))\n",
      "dim0 max:  tensor([3., 4.])\n",
      "dim0 argmax:  tensor([1, 1])\n",
      "dim1 max:  tensor([2., 4.])\n",
      "dim1 argmax:  tensor([1, 1])\n"
     ]
    }
   ],
   "source": [
    "# max, argmax\n",
    "t = torch.FloatTensor([[1, 2], \n",
    "                       [3, 4]])\n",
    "print(t)\n",
    "print(t.max())\n",
    "\n",
    "print(t.max(dim=0)) # 행을 축소하므로 (1, 2) 텐서 생성\n",
    "# argmax [1, 1]가 무슨 의미인지 봅시다. 기존 행렬을 다시 상기해봅시다.\n",
    "# [[1, 2],\n",
    "#  [3, 4]]\n",
    "# 첫번째 열에서 0번 인덱스는 1, 1번 인덱스는 3\n",
    "# 두번째 열에서 0번 인덱스는 2, 1번 인덱스는 4\n",
    "# 3과 4의 인덱스는 [1, 1]\n",
    "\n",
    "print('dim0 max: ', t.max(dim=0)[0])\n",
    "print('dim0 argmax: ', t.max(dim=0)[1])\n",
    "\n",
    "print('dim1 max: ', t.max(dim=1)[0])\n",
    "print('dim1 argmax: ', t.max(dim=1)[1])"
   ]
  },
  {
   "cell_type": "code",
   "execution_count": 53,
   "metadata": {},
   "outputs": [
    {
     "name": "stdout",
     "output_type": "stream",
     "text": [
      "torch.Size([2, 2, 3])\n"
     ]
    }
   ],
   "source": [
    "# 뷰(view) - 원소의 수를 유지하면서 텐서 크기 변경.\n",
    "\n",
    "t = np.array([[[0, 1, 2],\n",
    "               [3, 4, 5]],\n",
    "              [[6, 7, 8],\n",
    "               [9, 10, 11]]])\n",
    "ft = torch.FloatTensor(t)\n",
    "print(ft.shape)"
   ]
  },
  {
   "attachments": {
    "tensor1.PNG": {
     "image/png": "[encoded data removed]"
    }
   },
   "cell_type": "markdown",
   "metadata": {},
   "source": [
    "![tensor1.PNG](attachment:tensor1.PNG)"
   ]
  },
  {
   "cell_type": "code",
   "execution_count": 54,
   "metadata": {},
   "outputs": [
    {
     "name": "stdout",
     "output_type": "stream",
     "text": [
      "tensor([[ 0.,  1.,  2.],\n",
      "        [ 3.,  4.,  5.],\n",
      "        [ 6.,  7.,  8.],\n",
      "        [ 9., 10., 11.]])\n",
      "torch.Size([4, 3])\n"
     ]
    }
   ],
   "source": [
    "# 3차원 텐서에서 2차원 텐서로 변경\n",
    "print(ft.view([-1, 3])) # 3차원 텐서를 2차원으로 변환하되 (?, 3) 크기로 변경\n",
    "print(ft.view([-1, 3]).shape)\n",
    "\n",
    "# 내부적으로 크기 변환 : (2 x 2 x 3) = (? x 3) = 12 이므로 ?=4"
   ]
  },
  {
   "attachments": {},
   "cell_type": "markdown",
   "metadata": {},
   "source": [
    "\n",
    "- view는 기본적으로 변경 전과 변경 후의 텐서 안의 원소의 개수가 유지되어야 함\n",
    "- 파이토치의 view는 사이즈가 -1로 설정되면 다른 차원으로부터 해당 값을 유추함\n"
   ]
  },
  {
   "cell_type": "code",
   "execution_count": 55,
   "metadata": {},
   "outputs": [
    {
     "name": "stdout",
     "output_type": "stream",
     "text": [
      "tensor([[[ 0.,  1.,  2.]],\n",
      "\n",
      "        [[ 3.,  4.,  5.]],\n",
      "\n",
      "        [[ 6.,  7.,  8.]],\n",
      "\n",
      "        [[ 9., 10., 11.]]])\n",
      "torch.Size([4, 1, 3])\n"
     ]
    }
   ],
   "source": [
    "# 3차원 텐서의 크기 변경\n",
    "print(ft.view([-1, 1, 3])) # (2 x 2 x 3) = (? x 1 x 3) = 12 이므로 ?=4\n",
    "print(ft.view([-1, 1, 3]).shape)"
   ]
  },
  {
   "cell_type": "code",
   "execution_count": 59,
   "metadata": {},
   "outputs": [
    {
     "name": "stdout",
     "output_type": "stream",
     "text": [
      "tensor([[0.],\n",
      "        [1.],\n",
      "        [2.]])\n",
      "torch.Size([3, 1])\n",
      "tensor([0., 1., 2.])\n",
      "torch.Size([3])\n",
      "torch.Size([3])\n",
      "tensor([[0., 1., 2.]])\n",
      "torch.Size([1, 3])\n",
      "tensor([[0., 1., 2.]])\n",
      "torch.Size([1, 3])\n",
      "tensor([[0.],\n",
      "        [1.],\n",
      "        [2.]])\n",
      "torch.Size([3, 1])\n"
     ]
    }
   ],
   "source": [
    "# 스퀴즈(squeeze) - 1인 차원 제거\n",
    "ft = torch.FloatTensor([[0], [1], [2]])\n",
    "print(ft)\n",
    "print(ft.shape)\n",
    "print(ft.squeeze())\n",
    "print(ft.squeeze().shape)\n",
    "\n",
    "# 언스퀴즈(unsqueeze) - 특정 위치에 1인 차원 추가\n",
    "ft = torch.Tensor([0, 1, 2])\n",
    "print(ft.shape)\n",
    "print(ft.unsqueeze(0)) # 0은 첫번째 차원을 의미\n",
    "print(ft.unsqueeze(0).shape)\n",
    "\n",
    "print(ft.view(1, -1)) # (1 x 3) = (1 x ?) = 3 이므로 ?=3\n",
    "print(ft.view(1, -1).shape)\n",
    "\n",
    "print(ft.unsqueeze(1)) # 두번째 차원에 1을 추가하겠다는 것. (3, ) -> (3, 1)\n",
    "print(ft.unsqueeze(1).shape)"
   ]
  },
  {
   "cell_type": "code",
   "execution_count": 66,
   "metadata": {},
   "outputs": [
    {
     "name": "stdout",
     "output_type": "stream",
     "text": [
      "torch.Size([2, 2]) torch.Size([2, 2])\n",
      "tensor([[1., 2.],\n",
      "        [3., 4.],\n",
      "        [5., 6.],\n",
      "        [7., 8.]])\n",
      "torch.Size([4, 2])\n",
      "tensor([[1., 2., 5., 6.],\n",
      "        [3., 4., 7., 8.]])\n",
      "torch.Size([2, 4])\n",
      "tensor([[1., 4.],\n",
      "        [2., 5.],\n",
      "        [3., 6.]])\n",
      "tensor([[1., 4.],\n",
      "        [2., 5.],\n",
      "        [3., 6.]])\n"
     ]
    }
   ],
   "source": [
    "# 연결(concatenate)\n",
    "x = torch.FloatTensor([[1, 2], [3, 4]])\n",
    "y = torch.FloatTensor([[5, 6], [7, 8]])\n",
    "\n",
    "print(x.shape, y.shape)\n",
    "print(torch.cat([x, y], dim=0)) # dim이 0이면 첫번째 차원을 늘림\n",
    "print(torch.cat([x, y], dim=0).shape) # (2, 2) -> (4, 2)\n",
    "print(torch.cat([x, y], dim=1)) # dim이 1이면 두번째 차원을 늘림\n",
    "print(torch.cat([x, y], dim=1).shape) # (2, 2) -> (2, 4)\n",
    "\n",
    "# 스택킹(Stacking)\n",
    "x = torch.FloatTensor([1, 4])\n",
    "y = torch.FloatTensor([2, 5])\n",
    "z = torch.FloatTensor([3, 6])\n",
    "\n",
    "print(torch.stack([x, y, z]))\n",
    "# stack 의 내부 연산\n",
    "# (2 x 2) -> 3개의 벡터는 (1 x 2) 가 됨. 이 벡터를 연결하면 (3 x 2) 가 됨\n",
    "print(torch.cat([x.unsqueeze(0), y.unsqueeze(0), z.unsqueeze(0)], dim=0)) "
   ]
  },
  {
   "cell_type": "code",
   "execution_count": 68,
   "metadata": {},
   "outputs": [
    {
     "name": "stdout",
     "output_type": "stream",
     "text": [
      "tensor([[0., 1., 2.],\n",
      "        [2., 1., 0.]])\n",
      "tensor([[1., 1., 1.],\n",
      "        [1., 1., 1.]])\n",
      "tensor([[0., 0., 0.],\n",
      "        [0., 0., 0.]])\n"
     ]
    }
   ],
   "source": [
    "x = torch.FloatTensor([[0, 1, 2], [2, 1, 0]])\n",
    "print(x)\n",
    "print(torch.ones_like(x)) # 입력 텐서와 크기를 동일하게 하면서 값을 1로 채우기\n",
    "print(torch.zeros_like(x)) # 입력 텐서와 크기를 동일하게 하면서 값을 0으로 채우기"
   ]
  },
  {
   "cell_type": "code",
   "execution_count": 70,
   "metadata": {},
   "outputs": [
    {
     "name": "stdout",
     "output_type": "stream",
     "text": [
      "tensor([[2., 4.],\n",
      "        [6., 8.]])\n",
      "tensor([[1., 2.],\n",
      "        [3., 4.]])\n",
      "tensor([[2., 4.],\n",
      "        [6., 8.]])\n",
      "tensor([[2., 4.],\n",
      "        [6., 8.]])\n"
     ]
    }
   ],
   "source": [
    "# inplace 연산\n",
    "x = torch.FloatTensor([[1, 2], [3, 4]])\n",
    "print(x.mul(2.)) # 곱하기 2를 수행한 결과를 출력\n",
    "print(x) # 기존의 값 출력\n",
    "\n",
    "print(x.mul_(2.))  # 곱하기 2를 수행한 결과를 변수 x에 값을 저장하면서 결과를 출력\n",
    "print(x) # 기존의 값 출력"
   ]
  }
 ],
 "metadata": {
  "kernelspec": {
   "display_name": "base",
   "language": "python",
   "name": "python3"
  },
  "language_info": {
   "codemirror_mode": {
    "name": "ipython",
    "version": 3
   },
   "file_extension": ".py",
   "mimetype": "text/x-python",
   "name": "python",
   "nbconvert_exporter": "python",
   "pygments_lexer": "ipython3",
   "version": "3.9.12"
  },
  "vscode": {
   "interpreter": {
    "hash": "d4d1e4263499bec80672ea0156c357c1ee493ec2b1c70f0acce89fc37c4a6abe"
   }
  }
 },
 "nbformat": 4,
 "nbformat_minor": 4
}
